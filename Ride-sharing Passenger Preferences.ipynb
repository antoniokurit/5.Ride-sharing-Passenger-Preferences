{
 "cells": [
  {
   "cell_type": "markdown",
   "metadata": {},
   "source": [
    "# Ride-sharing Passenger Preferences & External Factors\n",
    "\n",
    "Our ride-sharing client Zuber is launching in Chicago. We will identify patterns in the available data and try to understand passenger preferences and the impact of external factors on rides. We'll study a database, analyze data from competitors, and test a hypothesis about the impact of weather on ride frequency."
   ]
  },
  {
   "cell_type": "markdown",
   "metadata": {},
   "source": [
    "# Table of Contents\n",
    "[1 Open the data file and have a look at the general information](#1heading)  \n",
    "&emsp;[1.1 Conclusion](#1.1heading)  \n",
    "[2 Data preprocessing](#2heading)  \n",
    "&emsp;[2.1 Processing missing values](#2.1heading)  \n",
    "&emsp;[2.2 Data type replacement](#2.2heading)  \n",
    "&emsp;[2.3 Processing duplicates](#2.3heading)  \n",
    "&emsp;[2.4 Extra preprocessing](#2.4heading)  \n",
    "[3 Exploratory Data Analysis](#3heading)  \n",
    "&emsp;[3.1 Top 10 neighborhoods in terms of drop-offs](#3.1heading)   \n",
    "&emsp;[3.2 Taxi companies based on number of rides](#3.2heading)  \n",
    "&emsp;[3.3 Analysis](#3.3heading)  \n",
    "[4 Testing hypotheses](#4heading)  \n",
    "[5 Overall Conclusion](#5heading)  "
   ]
  },
  {
   "cell_type": "markdown",
   "metadata": {},
   "source": [
    "<a id='1heading'></a>"
   ]
  },
  {
   "cell_type": "markdown",
   "metadata": {},
   "source": [
    "## Open the data files and have a look at the general information"
   ]
  },
  {
   "cell_type": "code",
   "execution_count": 1,
   "metadata": {},
   "outputs": [],
   "source": [
    "#Importing libraries\n",
    "import pandas as pd\n",
    "import numpy as np\n",
    "import matplotlib.pyplot as plt\n",
    "import math as mt\n",
    "from math import factorial\n",
    "from scipy import stats as st\n",
    "from functools import reduce"
   ]
  },
  {
   "cell_type": "code",
   "execution_count": 2,
   "metadata": {},
   "outputs": [],
   "source": [
    "#Read files\n",
    "company_rides = pd.read_csv('/Users/AntonioKuri/Desktop/Training/Practicum/Projects/Project 5/project_sql_result_01.csv')\n",
    "neighborhood_trips = pd.read_csv('/Users/AntonioKuri/Desktop/Training/Practicum/Projects/Project 5/project_sql_result_04.csv')\n",
    "loop_to_airport = pd.read_csv('/Users/AntonioKuri/Desktop/Training/Practicum/Projects/Project 5/project_sql_result_07.csv')"
   ]
  },
  {
   "cell_type": "code",
   "execution_count": 3,
   "metadata": {},
   "outputs": [
    {
     "name": "stdout",
     "output_type": "stream",
     "text": [
      "                      company_name  trips_amount\n",
      "0                        Flash Cab         19558\n",
      "1        Taxi Affiliation Services         11422\n",
      "2                 Medallion Leasin         10367\n",
      "3                       Yellow Cab          9888\n",
      "4  Taxi Affiliation Service Yellow          9299\n",
      "<class 'pandas.core.frame.DataFrame'>\n",
      "RangeIndex: 64 entries, 0 to 63\n",
      "Data columns (total 2 columns):\n",
      " #   Column        Non-Null Count  Dtype \n",
      "---  ------        --------------  ----- \n",
      " 0   company_name  64 non-null     object\n",
      " 1   trips_amount  64 non-null     int64 \n",
      "dtypes: int64(1), object(1)\n",
      "memory usage: 1.1+ KB\n",
      "None\n",
      "       trips_amount\n",
      "count     64.000000\n",
      "mean    2145.484375\n",
      "std     3812.310186\n",
      "min        2.000000\n",
      "25%       20.750000\n",
      "50%      178.500000\n",
      "75%     2106.500000\n",
      "max    19558.000000\n"
     ]
    }
   ],
   "source": [
    "#Check company_rides first five rows and the data info\n",
    "print(company_rides.head())\n",
    "print(company_rides.info())\n",
    "print(company_rides.describe())"
   ]
  },
  {
   "cell_type": "code",
   "execution_count": 4,
   "metadata": {},
   "outputs": [
    {
     "name": "stdout",
     "output_type": "stream",
     "text": [
      "  dropoff_location_name  average_trips\n",
      "0                  Loop   10727.466667\n",
      "1           River North    9523.666667\n",
      "2         Streeterville    6664.666667\n",
      "3             West Loop    5163.666667\n",
      "4                O'Hare    2546.900000\n",
      "<class 'pandas.core.frame.DataFrame'>\n",
      "RangeIndex: 94 entries, 0 to 93\n",
      "Data columns (total 2 columns):\n",
      " #   Column                 Non-Null Count  Dtype  \n",
      "---  ------                 --------------  -----  \n",
      " 0   dropoff_location_name  94 non-null     object \n",
      " 1   average_trips          94 non-null     float64\n",
      "dtypes: float64(1), object(1)\n",
      "memory usage: 1.6+ KB\n",
      "None\n",
      "       average_trips\n",
      "count      94.000000\n",
      "mean      599.953728\n",
      "std      1714.591098\n",
      "min         1.800000\n",
      "25%        14.266667\n",
      "50%        52.016667\n",
      "75%       298.858333\n",
      "max     10727.466667\n"
     ]
    }
   ],
   "source": [
    "#Check neighborhood_trips first five rows and the data info\n",
    "print(neighborhood_trips.head())\n",
    "print(neighborhood_trips.info())\n",
    "print(neighborhood_trips.describe())"
   ]
  },
  {
   "cell_type": "code",
   "execution_count": 5,
   "metadata": {},
   "outputs": [
    {
     "name": "stdout",
     "output_type": "stream",
     "text": [
      "              start_ts weather_conditions  duration_seconds\n",
      "0  2017-11-25 16:00:00               Good            2410.0\n",
      "1  2017-11-25 14:00:00               Good            1920.0\n",
      "2  2017-11-25 12:00:00               Good            1543.0\n",
      "3  2017-11-04 10:00:00               Good            2512.0\n",
      "4  2017-11-11 07:00:00               Good            1440.0\n",
      "<class 'pandas.core.frame.DataFrame'>\n",
      "RangeIndex: 1068 entries, 0 to 1067\n",
      "Data columns (total 3 columns):\n",
      " #   Column              Non-Null Count  Dtype  \n",
      "---  ------              --------------  -----  \n",
      " 0   start_ts            1068 non-null   object \n",
      " 1   weather_conditions  1068 non-null   object \n",
      " 2   duration_seconds    1068 non-null   float64\n",
      "dtypes: float64(1), object(2)\n",
      "memory usage: 25.2+ KB\n",
      "None\n",
      "       duration_seconds\n",
      "count       1068.000000\n",
      "mean        2071.731273\n",
      "std          769.461125\n",
      "min            0.000000\n",
      "25%         1438.250000\n",
      "50%         1980.000000\n",
      "75%         2580.000000\n",
      "max         7440.000000\n"
     ]
    }
   ],
   "source": [
    "#Check loop_to_airport first five rows and the data info\n",
    "print(loop_to_airport.head())\n",
    "print(loop_to_airport.info())\n",
    "print(loop_to_airport.describe())"
   ]
  },
  {
   "cell_type": "markdown",
   "metadata": {},
   "source": [
    "<a id='1.1heading'></a>"
   ]
  },
  {
   "cell_type": "markdown",
   "metadata": {},
   "source": [
    "### Conclusion"
   ]
  },
  {
   "cell_type": "markdown",
   "metadata": {},
   "source": [
    "Company_rides dataframe contains 2 columns: company_name and trips_amount.\n",
    "- Company_names is the taxi company name and trips_amount is the number of rides for each taxi company on November 15-16, 2017.\n",
    "- There are a total of 64 rows. Data types are fine.\n",
    "\n",
    "Neighborhood_trips dataframe contains 2 columns: dropoff_location_name and average_trips.\n",
    "- Dropoff_location_name are the Chicago neighborhoods where rides ended and average_trips are the average number of rides that ended in each neighborhood in November 2017.\n",
    "- There are a total of 94 rows. Data types are fine.\n",
    "\n",
    "Loop_to_airport dataframe contains 3 columns: start_ts, weather_conditions and duration_seconds.\n",
    "- Start_ts is pickup date and time, weather_conditions is weather conditions at the moment the ride started, and duration_seconds is ride duration in seconds.\n",
    "- There are a total of 1068 rows.\n",
    "- There are trips that lasted 0 seconds, will clean later."
   ]
  },
  {
   "cell_type": "markdown",
   "metadata": {},
   "source": [
    "<a id='2heading'></a>"
   ]
  },
  {
   "cell_type": "markdown",
   "metadata": {},
   "source": [
    "## Data preprocessing"
   ]
  },
  {
   "cell_type": "markdown",
   "metadata": {},
   "source": [
    "<a id='2.1heading'></a>"
   ]
  },
  {
   "cell_type": "markdown",
   "metadata": {},
   "source": [
    "### Processing missing values"
   ]
  },
  {
   "cell_type": "markdown",
   "metadata": {},
   "source": [
    "Note: We know files have no missing values as our dataframes are the result of SQL queries. However, we'll double check."
   ]
  },
  {
   "cell_type": "code",
   "execution_count": 6,
   "metadata": {},
   "outputs": [
    {
     "name": "stdout",
     "output_type": "stream",
     "text": [
      "Total Rows: 64\n"
     ]
    },
    {
     "data": {
      "text/plain": [
       "company_name    0\n",
       "trips_amount    0\n",
       "dtype: int64"
      ]
     },
     "execution_count": 6,
     "metadata": {},
     "output_type": "execute_result"
    }
   ],
   "source": [
    "#count of nulls for company_rides\n",
    "print('Total Rows:', len(company_rides))\n",
    "company_rides.isnull().sum()"
   ]
  },
  {
   "cell_type": "code",
   "execution_count": 7,
   "metadata": {},
   "outputs": [
    {
     "name": "stdout",
     "output_type": "stream",
     "text": [
      "Total Rows: 94\n"
     ]
    },
    {
     "data": {
      "text/plain": [
       "dropoff_location_name    0\n",
       "average_trips            0\n",
       "dtype: int64"
      ]
     },
     "execution_count": 7,
     "metadata": {},
     "output_type": "execute_result"
    }
   ],
   "source": [
    "#count of nulls for neighborhood_trips\n",
    "print('Total Rows:', len(neighborhood_trips))\n",
    "neighborhood_trips.isnull().sum()"
   ]
  },
  {
   "cell_type": "code",
   "execution_count": 8,
   "metadata": {},
   "outputs": [
    {
     "name": "stdout",
     "output_type": "stream",
     "text": [
      "Total Rows: 1068\n"
     ]
    },
    {
     "data": {
      "text/plain": [
       "start_ts              0\n",
       "weather_conditions    0\n",
       "duration_seconds      0\n",
       "dtype: int64"
      ]
     },
     "execution_count": 8,
     "metadata": {},
     "output_type": "execute_result"
    }
   ],
   "source": [
    "#count of nulls for loop_to_airport\n",
    "print('Total Rows:', len(loop_to_airport))\n",
    "loop_to_airport.isnull().sum()"
   ]
  },
  {
   "cell_type": "markdown",
   "metadata": {},
   "source": [
    "<a id='2.2heading'></a>"
   ]
  },
  {
   "cell_type": "markdown",
   "metadata": {},
   "source": [
    "### Data type replacement"
   ]
  },
  {
   "cell_type": "code",
   "execution_count": 9,
   "metadata": {},
   "outputs": [
    {
     "data": {
      "text/plain": [
       "company_name    object\n",
       "trips_amount     int64\n",
       "dtype: object"
      ]
     },
     "execution_count": 9,
     "metadata": {},
     "output_type": "execute_result"
    }
   ],
   "source": [
    "#Check company_rides dtypes\n",
    "company_rides.dtypes"
   ]
  },
  {
   "cell_type": "markdown",
   "metadata": {},
   "source": [
    "No need to change dtypes for company_rides."
   ]
  },
  {
   "cell_type": "code",
   "execution_count": 10,
   "metadata": {},
   "outputs": [
    {
     "data": {
      "text/plain": [
       "dropoff_location_name     object\n",
       "average_trips            float64\n",
       "dtype: object"
      ]
     },
     "execution_count": 10,
     "metadata": {},
     "output_type": "execute_result"
    }
   ],
   "source": [
    "#Check neighborhood_trips dtypes\n",
    "neighborhood_trips.dtypes"
   ]
  },
  {
   "cell_type": "code",
   "execution_count": 11,
   "metadata": {},
   "outputs": [
    {
     "data": {
      "text/plain": [
       "dropoff_location_name    object\n",
       "average_trips             int64\n",
       "dtype: object"
      ]
     },
     "execution_count": 11,
     "metadata": {},
     "output_type": "execute_result"
    }
   ],
   "source": [
    "#Change dtypes\n",
    "neighborhood_trips['average_trips'] = neighborhood_trips['average_trips'].astype(int)\n",
    "neighborhood_trips.dtypes"
   ]
  },
  {
   "cell_type": "code",
   "execution_count": 12,
   "metadata": {},
   "outputs": [
    {
     "data": {
      "text/plain": [
       "start_ts               object\n",
       "weather_conditions     object\n",
       "duration_seconds      float64\n",
       "dtype: object"
      ]
     },
     "execution_count": 12,
     "metadata": {},
     "output_type": "execute_result"
    }
   ],
   "source": [
    "#Check loop_to_airport dtypes\n",
    "loop_to_airport.dtypes"
   ]
  },
  {
   "cell_type": "code",
   "execution_count": 13,
   "metadata": {},
   "outputs": [
    {
     "data": {
      "text/plain": [
       "start_ts              datetime64[ns]\n",
       "weather_conditions            object\n",
       "duration_seconds               int64\n",
       "dtype: object"
      ]
     },
     "execution_count": 13,
     "metadata": {},
     "output_type": "execute_result"
    }
   ],
   "source": [
    "#Change dtypes\n",
    "loop_to_airport['duration_seconds'] = loop_to_airport['duration_seconds'].astype(int)\n",
    "loop_to_airport['start_ts'] = pd.to_datetime(loop_to_airport['start_ts'], format='%Y-%m-%dT%H:%M:%S')\n",
    "loop_to_airport.dtypes"
   ]
  },
  {
   "cell_type": "markdown",
   "metadata": {},
   "source": [
    "<a id='2.3heading'></a>"
   ]
  },
  {
   "cell_type": "markdown",
   "metadata": {},
   "source": [
    "### Processing duplicates"
   ]
  },
  {
   "cell_type": "code",
   "execution_count": 14,
   "metadata": {},
   "outputs": [
    {
     "data": {
      "text/plain": [
       "0"
      ]
     },
     "execution_count": 14,
     "metadata": {},
     "output_type": "execute_result"
    }
   ],
   "source": [
    "#Duplicates for company_rides\n",
    "company_rides.duplicated().sum()"
   ]
  },
  {
   "cell_type": "code",
   "execution_count": 15,
   "metadata": {},
   "outputs": [
    {
     "data": {
      "text/plain": [
       "0"
      ]
     },
     "execution_count": 15,
     "metadata": {},
     "output_type": "execute_result"
    }
   ],
   "source": [
    "#Duplicates for neighborhood_trips\n",
    "neighborhood_trips.duplicated().sum()"
   ]
  },
  {
   "cell_type": "code",
   "execution_count": 16,
   "metadata": {},
   "outputs": [
    {
     "data": {
      "text/plain": [
       "197"
      ]
     },
     "execution_count": 16,
     "metadata": {},
     "output_type": "execute_result"
    }
   ],
   "source": [
    "#Duplicates for loop_to_airport\n",
    "loop_to_airport.duplicated().sum()"
   ]
  },
  {
   "cell_type": "code",
   "execution_count": 17,
   "metadata": {},
   "outputs": [
    {
     "data": {
      "text/html": [
       "<div>\n",
       "<style scoped>\n",
       "    .dataframe tbody tr th:only-of-type {\n",
       "        vertical-align: middle;\n",
       "    }\n",
       "\n",
       "    .dataframe tbody tr th {\n",
       "        vertical-align: top;\n",
       "    }\n",
       "\n",
       "    .dataframe thead th {\n",
       "        text-align: right;\n",
       "    }\n",
       "</style>\n",
       "<table border=\"1\" class=\"dataframe\">\n",
       "  <thead>\n",
       "    <tr style=\"text-align: right;\">\n",
       "      <th></th>\n",
       "      <th>start_ts</th>\n",
       "      <th>weather_conditions</th>\n",
       "      <th>duration_seconds</th>\n",
       "    </tr>\n",
       "  </thead>\n",
       "  <tbody>\n",
       "    <tr>\n",
       "      <th>541</th>\n",
       "      <td>2017-11-04 05:00:00</td>\n",
       "      <td>Good</td>\n",
       "      <td>1200</td>\n",
       "    </tr>\n",
       "    <tr>\n",
       "      <th>682</th>\n",
       "      <td>2017-11-04 06:00:00</td>\n",
       "      <td>Good</td>\n",
       "      <td>1267</td>\n",
       "    </tr>\n",
       "    <tr>\n",
       "      <th>833</th>\n",
       "      <td>2017-11-04 07:00:00</td>\n",
       "      <td>Good</td>\n",
       "      <td>1440</td>\n",
       "    </tr>\n",
       "    <tr>\n",
       "      <th>933</th>\n",
       "      <td>2017-11-04 07:00:00</td>\n",
       "      <td>Good</td>\n",
       "      <td>1200</td>\n",
       "    </tr>\n",
       "    <tr>\n",
       "      <th>979</th>\n",
       "      <td>2017-11-04 07:00:00</td>\n",
       "      <td>Good</td>\n",
       "      <td>1140</td>\n",
       "    </tr>\n",
       "    <tr>\n",
       "      <th>1025</th>\n",
       "      <td>2017-11-04 07:00:00</td>\n",
       "      <td>Good</td>\n",
       "      <td>1380</td>\n",
       "    </tr>\n",
       "    <tr>\n",
       "      <th>1020</th>\n",
       "      <td>2017-11-04 07:00:00</td>\n",
       "      <td>Good</td>\n",
       "      <td>1260</td>\n",
       "    </tr>\n",
       "    <tr>\n",
       "      <th>216</th>\n",
       "      <td>2017-11-04 08:00:00</td>\n",
       "      <td>Good</td>\n",
       "      <td>1380</td>\n",
       "    </tr>\n",
       "    <tr>\n",
       "      <th>190</th>\n",
       "      <td>2017-11-04 08:00:00</td>\n",
       "      <td>Good</td>\n",
       "      <td>1323</td>\n",
       "    </tr>\n",
       "    <tr>\n",
       "      <th>927</th>\n",
       "      <td>2017-11-04 08:00:00</td>\n",
       "      <td>Good</td>\n",
       "      <td>1260</td>\n",
       "    </tr>\n",
       "  </tbody>\n",
       "</table>\n",
       "</div>"
      ],
      "text/plain": [
       "                start_ts weather_conditions  duration_seconds\n",
       "541  2017-11-04 05:00:00               Good              1200\n",
       "682  2017-11-04 06:00:00               Good              1267\n",
       "833  2017-11-04 07:00:00               Good              1440\n",
       "933  2017-11-04 07:00:00               Good              1200\n",
       "979  2017-11-04 07:00:00               Good              1140\n",
       "1025 2017-11-04 07:00:00               Good              1380\n",
       "1020 2017-11-04 07:00:00               Good              1260\n",
       "216  2017-11-04 08:00:00               Good              1380\n",
       "190  2017-11-04 08:00:00               Good              1323\n",
       "927  2017-11-04 08:00:00               Good              1260"
      ]
     },
     "execution_count": 17,
     "metadata": {},
     "output_type": "execute_result"
    }
   ],
   "source": [
    "#Get duplicates for loop_to_airport\n",
    "duplicates = loop_to_airport[loop_to_airport.duplicated()]\n",
    "duplicates.sort_values(by='start_ts').head(10)"
   ]
  },
  {
   "cell_type": "markdown",
   "metadata": {},
   "source": [
    "We can consider that these duplicate trips are actually different rides, but that becomes extremely unlikely when duration_seconds are exactly the same. Therefore we will delete the duplicates."
   ]
  },
  {
   "cell_type": "code",
   "execution_count": 18,
   "metadata": {},
   "outputs": [
    {
     "data": {
      "text/plain": [
       "0"
      ]
     },
     "execution_count": 18,
     "metadata": {},
     "output_type": "execute_result"
    }
   ],
   "source": [
    "#Deleted duplicates for loop_to_airport\n",
    "loop_to_airport =  loop_to_airport.drop_duplicates()\n",
    "loop_to_airport.duplicated().sum()"
   ]
  },
  {
   "cell_type": "markdown",
   "metadata": {},
   "source": [
    "<a id='2.4heading'></a>"
   ]
  },
  {
   "cell_type": "markdown",
   "metadata": {},
   "source": [
    "### Extra preprocessing"
   ]
  },
  {
   "cell_type": "code",
   "execution_count": 19,
   "metadata": {},
   "outputs": [
    {
     "data": {
      "text/html": [
       "<div>\n",
       "<style scoped>\n",
       "    .dataframe tbody tr th:only-of-type {\n",
       "        vertical-align: middle;\n",
       "    }\n",
       "\n",
       "    .dataframe tbody tr th {\n",
       "        vertical-align: top;\n",
       "    }\n",
       "\n",
       "    .dataframe thead th {\n",
       "        text-align: right;\n",
       "    }\n",
       "</style>\n",
       "<table border=\"1\" class=\"dataframe\">\n",
       "  <thead>\n",
       "    <tr style=\"text-align: right;\">\n",
       "      <th></th>\n",
       "      <th>start_ts</th>\n",
       "      <th>weather_conditions</th>\n",
       "      <th>duration_seconds</th>\n",
       "    </tr>\n",
       "  </thead>\n",
       "  <tbody>\n",
       "    <tr>\n",
       "      <th>203</th>\n",
       "      <td>2017-11-18 00:00:00</td>\n",
       "      <td>Bad</td>\n",
       "      <td>480</td>\n",
       "    </tr>\n",
       "    <tr>\n",
       "      <th>860</th>\n",
       "      <td>2017-11-04 18:00:00</td>\n",
       "      <td>Bad</td>\n",
       "      <td>480</td>\n",
       "    </tr>\n",
       "    <tr>\n",
       "      <th>424</th>\n",
       "      <td>2017-11-11 13:00:00</td>\n",
       "      <td>Good</td>\n",
       "      <td>420</td>\n",
       "    </tr>\n",
       "    <tr>\n",
       "      <th>15</th>\n",
       "      <td>2017-11-25 13:00:00</td>\n",
       "      <td>Good</td>\n",
       "      <td>60</td>\n",
       "    </tr>\n",
       "    <tr>\n",
       "      <th>801</th>\n",
       "      <td>2017-11-04 09:00:00</td>\n",
       "      <td>Good</td>\n",
       "      <td>0</td>\n",
       "    </tr>\n",
       "    <tr>\n",
       "      <th>204</th>\n",
       "      <td>2017-11-18 19:00:00</td>\n",
       "      <td>Good</td>\n",
       "      <td>0</td>\n",
       "    </tr>\n",
       "    <tr>\n",
       "      <th>163</th>\n",
       "      <td>2017-11-11 09:00:00</td>\n",
       "      <td>Good</td>\n",
       "      <td>0</td>\n",
       "    </tr>\n",
       "    <tr>\n",
       "      <th>552</th>\n",
       "      <td>2017-11-04 01:00:00</td>\n",
       "      <td>Good</td>\n",
       "      <td>0</td>\n",
       "    </tr>\n",
       "    <tr>\n",
       "      <th>1063</th>\n",
       "      <td>2017-11-25 11:00:00</td>\n",
       "      <td>Good</td>\n",
       "      <td>0</td>\n",
       "    </tr>\n",
       "    <tr>\n",
       "      <th>168</th>\n",
       "      <td>2017-11-11 07:00:00</td>\n",
       "      <td>Good</td>\n",
       "      <td>0</td>\n",
       "    </tr>\n",
       "  </tbody>\n",
       "</table>\n",
       "</div>"
      ],
      "text/plain": [
       "                start_ts weather_conditions  duration_seconds\n",
       "203  2017-11-18 00:00:00                Bad               480\n",
       "860  2017-11-04 18:00:00                Bad               480\n",
       "424  2017-11-11 13:00:00               Good               420\n",
       "15   2017-11-25 13:00:00               Good                60\n",
       "801  2017-11-04 09:00:00               Good                 0\n",
       "204  2017-11-18 19:00:00               Good                 0\n",
       "163  2017-11-11 09:00:00               Good                 0\n",
       "552  2017-11-04 01:00:00               Good                 0\n",
       "1063 2017-11-25 11:00:00               Good                 0\n",
       "168  2017-11-11 07:00:00               Good                 0"
      ]
     },
     "execution_count": 19,
     "metadata": {},
     "output_type": "execute_result"
    }
   ],
   "source": [
    "#Checking rows in loop_to_airport where duration_seconds = 0\n",
    "loop_to_airport.sort_values(by='duration_seconds', ascending=False).tail(10)"
   ]
  },
  {
   "cell_type": "code",
   "execution_count": 20,
   "metadata": {},
   "outputs": [],
   "source": [
    "#Delete rows where duration_seconds = 0\n",
    "loop_to_airport = loop_to_airport[loop_to_airport.loc[:,'duration_seconds'] != 0]"
   ]
  },
  {
   "cell_type": "code",
   "execution_count": 21,
   "metadata": {},
   "outputs": [
    {
     "data": {
      "text/html": [
       "<div>\n",
       "<style scoped>\n",
       "    .dataframe tbody tr th:only-of-type {\n",
       "        vertical-align: middle;\n",
       "    }\n",
       "\n",
       "    .dataframe tbody tr th {\n",
       "        vertical-align: top;\n",
       "    }\n",
       "\n",
       "    .dataframe thead th {\n",
       "        text-align: right;\n",
       "    }\n",
       "</style>\n",
       "<table border=\"1\" class=\"dataframe\">\n",
       "  <thead>\n",
       "    <tr style=\"text-align: right;\">\n",
       "      <th></th>\n",
       "      <th>start_ts</th>\n",
       "      <th>weather_conditions</th>\n",
       "      <th>duration_seconds</th>\n",
       "    </tr>\n",
       "  </thead>\n",
       "  <tbody>\n",
       "    <tr>\n",
       "      <th>879</th>\n",
       "      <td>2017-11-11 09:00:00</td>\n",
       "      <td>Good</td>\n",
       "      <td>1080</td>\n",
       "    </tr>\n",
       "    <tr>\n",
       "      <th>737</th>\n",
       "      <td>2017-11-25 10:00:00</td>\n",
       "      <td>Good</td>\n",
       "      <td>1080</td>\n",
       "    </tr>\n",
       "    <tr>\n",
       "      <th>237</th>\n",
       "      <td>2017-11-11 07:00:00</td>\n",
       "      <td>Good</td>\n",
       "      <td>1074</td>\n",
       "    </tr>\n",
       "    <tr>\n",
       "      <th>713</th>\n",
       "      <td>2017-11-11 08:00:00</td>\n",
       "      <td>Good</td>\n",
       "      <td>1063</td>\n",
       "    </tr>\n",
       "    <tr>\n",
       "      <th>194</th>\n",
       "      <td>2017-11-04 06:00:00</td>\n",
       "      <td>Good</td>\n",
       "      <td>1020</td>\n",
       "    </tr>\n",
       "    <tr>\n",
       "      <th>874</th>\n",
       "      <td>2017-11-04 05:00:00</td>\n",
       "      <td>Good</td>\n",
       "      <td>1018</td>\n",
       "    </tr>\n",
       "    <tr>\n",
       "      <th>860</th>\n",
       "      <td>2017-11-04 18:00:00</td>\n",
       "      <td>Bad</td>\n",
       "      <td>480</td>\n",
       "    </tr>\n",
       "    <tr>\n",
       "      <th>203</th>\n",
       "      <td>2017-11-18 00:00:00</td>\n",
       "      <td>Bad</td>\n",
       "      <td>480</td>\n",
       "    </tr>\n",
       "    <tr>\n",
       "      <th>424</th>\n",
       "      <td>2017-11-11 13:00:00</td>\n",
       "      <td>Good</td>\n",
       "      <td>420</td>\n",
       "    </tr>\n",
       "    <tr>\n",
       "      <th>15</th>\n",
       "      <td>2017-11-25 13:00:00</td>\n",
       "      <td>Good</td>\n",
       "      <td>60</td>\n",
       "    </tr>\n",
       "  </tbody>\n",
       "</table>\n",
       "</div>"
      ],
      "text/plain": [
       "               start_ts weather_conditions  duration_seconds\n",
       "879 2017-11-11 09:00:00               Good              1080\n",
       "737 2017-11-25 10:00:00               Good              1080\n",
       "237 2017-11-11 07:00:00               Good              1074\n",
       "713 2017-11-11 08:00:00               Good              1063\n",
       "194 2017-11-04 06:00:00               Good              1020\n",
       "874 2017-11-04 05:00:00               Good              1018\n",
       "860 2017-11-04 18:00:00                Bad               480\n",
       "203 2017-11-18 00:00:00                Bad               480\n",
       "424 2017-11-11 13:00:00               Good               420\n",
       "15  2017-11-25 13:00:00               Good                60"
      ]
     },
     "execution_count": 21,
     "metadata": {},
     "output_type": "execute_result"
    }
   ],
   "source": [
    "#Veryfying row deletion\n",
    "loop_to_airport.sort_values(by='duration_seconds', ascending=False).tail(10)"
   ]
  },
  {
   "cell_type": "markdown",
   "metadata": {},
   "source": [
    "We're deleted the rows in which duration_seconds = 0 because it's impossible for a succesful taxi trip to be zero seconds. These rides were perhaps canceled after being ordered, or a glitch occured when recording the trips' duration."
   ]
  },
  {
   "cell_type": "markdown",
   "metadata": {},
   "source": [
    "<a id='3heading'></a>"
   ]
  },
  {
   "cell_type": "markdown",
   "metadata": {},
   "source": [
    "## Exploratory Data Analysis"
   ]
  },
  {
   "cell_type": "markdown",
   "metadata": {},
   "source": [
    "<a id='3.1heading'></a>"
   ]
  },
  {
   "cell_type": "markdown",
   "metadata": {},
   "source": [
    "### Top 10 neighborhoods in terms of drop-offs"
   ]
  },
  {
   "cell_type": "code",
   "execution_count": 22,
   "metadata": {},
   "outputs": [
    {
     "data": {
      "text/html": [
       "<div>\n",
       "<style scoped>\n",
       "    .dataframe tbody tr th:only-of-type {\n",
       "        vertical-align: middle;\n",
       "    }\n",
       "\n",
       "    .dataframe tbody tr th {\n",
       "        vertical-align: top;\n",
       "    }\n",
       "\n",
       "    .dataframe thead th {\n",
       "        text-align: right;\n",
       "    }\n",
       "</style>\n",
       "<table border=\"1\" class=\"dataframe\">\n",
       "  <thead>\n",
       "    <tr style=\"text-align: right;\">\n",
       "      <th></th>\n",
       "      <th>dropoff_location_name</th>\n",
       "      <th>average_trips</th>\n",
       "    </tr>\n",
       "  </thead>\n",
       "  <tbody>\n",
       "    <tr>\n",
       "      <th>0</th>\n",
       "      <td>Loop</td>\n",
       "      <td>10727</td>\n",
       "    </tr>\n",
       "    <tr>\n",
       "      <th>1</th>\n",
       "      <td>River North</td>\n",
       "      <td>9523</td>\n",
       "    </tr>\n",
       "    <tr>\n",
       "      <th>2</th>\n",
       "      <td>Streeterville</td>\n",
       "      <td>6664</td>\n",
       "    </tr>\n",
       "    <tr>\n",
       "      <th>3</th>\n",
       "      <td>West Loop</td>\n",
       "      <td>5163</td>\n",
       "    </tr>\n",
       "    <tr>\n",
       "      <th>4</th>\n",
       "      <td>O'Hare</td>\n",
       "      <td>2546</td>\n",
       "    </tr>\n",
       "    <tr>\n",
       "      <th>5</th>\n",
       "      <td>Lake View</td>\n",
       "      <td>2420</td>\n",
       "    </tr>\n",
       "    <tr>\n",
       "      <th>6</th>\n",
       "      <td>Grant Park</td>\n",
       "      <td>2068</td>\n",
       "    </tr>\n",
       "    <tr>\n",
       "      <th>7</th>\n",
       "      <td>Museum Campus</td>\n",
       "      <td>1510</td>\n",
       "    </tr>\n",
       "    <tr>\n",
       "      <th>8</th>\n",
       "      <td>Gold Coast</td>\n",
       "      <td>1364</td>\n",
       "    </tr>\n",
       "    <tr>\n",
       "      <th>9</th>\n",
       "      <td>Sheffield &amp; DePaul</td>\n",
       "      <td>1259</td>\n",
       "    </tr>\n",
       "  </tbody>\n",
       "</table>\n",
       "</div>"
      ],
      "text/plain": [
       "  dropoff_location_name  average_trips\n",
       "0                  Loop          10727\n",
       "1           River North           9523\n",
       "2         Streeterville           6664\n",
       "3             West Loop           5163\n",
       "4                O'Hare           2546\n",
       "5             Lake View           2420\n",
       "6            Grant Park           2068\n",
       "7         Museum Campus           1510\n",
       "8            Gold Coast           1364\n",
       "9    Sheffield & DePaul           1259"
      ]
     },
     "execution_count": 22,
     "metadata": {},
     "output_type": "execute_result"
    }
   ],
   "source": [
    "#Obtaining top 10 neighborhoods in terms of drop-offs\n",
    "neighborhood_trips_top_10 = neighborhood_trips.head(10)\n",
    "neighborhood_trips_top_10"
   ]
  },
  {
   "cell_type": "code",
   "execution_count": 23,
   "metadata": {},
   "outputs": [
    {
     "data": {
      "text/html": [
       "<div>\n",
       "<style scoped>\n",
       "    .dataframe tbody tr th:only-of-type {\n",
       "        vertical-align: middle;\n",
       "    }\n",
       "\n",
       "    .dataframe tbody tr th {\n",
       "        vertical-align: top;\n",
       "    }\n",
       "\n",
       "    .dataframe thead th {\n",
       "        text-align: right;\n",
       "    }\n",
       "</style>\n",
       "<table border=\"1\" class=\"dataframe\">\n",
       "  <thead>\n",
       "    <tr style=\"text-align: right;\">\n",
       "      <th></th>\n",
       "      <th>average_trips</th>\n",
       "    </tr>\n",
       "    <tr>\n",
       "      <th>dropoff_location_name</th>\n",
       "      <th></th>\n",
       "    </tr>\n",
       "  </thead>\n",
       "  <tbody>\n",
       "    <tr>\n",
       "      <th>Loop</th>\n",
       "      <td>10727</td>\n",
       "    </tr>\n",
       "    <tr>\n",
       "      <th>River North</th>\n",
       "      <td>9523</td>\n",
       "    </tr>\n",
       "    <tr>\n",
       "      <th>Streeterville</th>\n",
       "      <td>6664</td>\n",
       "    </tr>\n",
       "    <tr>\n",
       "      <th>West Loop</th>\n",
       "      <td>5163</td>\n",
       "    </tr>\n",
       "    <tr>\n",
       "      <th>O'Hare</th>\n",
       "      <td>2546</td>\n",
       "    </tr>\n",
       "    <tr>\n",
       "      <th>Lake View</th>\n",
       "      <td>2420</td>\n",
       "    </tr>\n",
       "    <tr>\n",
       "      <th>Grant Park</th>\n",
       "      <td>2068</td>\n",
       "    </tr>\n",
       "    <tr>\n",
       "      <th>Museum Campus</th>\n",
       "      <td>1510</td>\n",
       "    </tr>\n",
       "    <tr>\n",
       "      <th>Gold Coast</th>\n",
       "      <td>1364</td>\n",
       "    </tr>\n",
       "    <tr>\n",
       "      <th>Sheffield &amp; DePaul</th>\n",
       "      <td>1259</td>\n",
       "    </tr>\n",
       "  </tbody>\n",
       "</table>\n",
       "</div>"
      ],
      "text/plain": [
       "                       average_trips\n",
       "dropoff_location_name               \n",
       "Loop                           10727\n",
       "River North                     9523\n",
       "Streeterville                   6664\n",
       "West Loop                       5163\n",
       "O'Hare                          2546\n",
       "Lake View                       2420\n",
       "Grant Park                      2068\n",
       "Museum Campus                   1510\n",
       "Gold Coast                      1364\n",
       "Sheffield & DePaul              1259"
      ]
     },
     "execution_count": 23,
     "metadata": {},
     "output_type": "execute_result"
    }
   ],
   "source": [
    "#Make dropoff_location_name into index\n",
    "neighborhood_trips_top_10_index = neighborhood_trips_top_10.set_index('dropoff_location_name')\n",
    "neighborhood_trips_top_10_index.head(10)"
   ]
  },
  {
   "cell_type": "markdown",
   "metadata": {},
   "source": [
    "<a id='3.2heading'></a>"
   ]
  },
  {
   "cell_type": "markdown",
   "metadata": {},
   "source": [
    "### Taxi companies based on number of rides"
   ]
  },
  {
   "cell_type": "code",
   "execution_count": 24,
   "metadata": {},
   "outputs": [
    {
     "data": {
      "text/html": [
       "<div>\n",
       "<style scoped>\n",
       "    .dataframe tbody tr th:only-of-type {\n",
       "        vertical-align: middle;\n",
       "    }\n",
       "\n",
       "    .dataframe tbody tr th {\n",
       "        vertical-align: top;\n",
       "    }\n",
       "\n",
       "    .dataframe thead th {\n",
       "        text-align: right;\n",
       "    }\n",
       "</style>\n",
       "<table border=\"1\" class=\"dataframe\">\n",
       "  <thead>\n",
       "    <tr style=\"text-align: right;\">\n",
       "      <th></th>\n",
       "      <th>company_name</th>\n",
       "      <th>trips_amount</th>\n",
       "    </tr>\n",
       "  </thead>\n",
       "  <tbody>\n",
       "    <tr>\n",
       "      <th>0</th>\n",
       "      <td>Flash Cab</td>\n",
       "      <td>19558</td>\n",
       "    </tr>\n",
       "    <tr>\n",
       "      <th>1</th>\n",
       "      <td>Taxi Affiliation Services</td>\n",
       "      <td>11422</td>\n",
       "    </tr>\n",
       "    <tr>\n",
       "      <th>2</th>\n",
       "      <td>Medallion Leasin</td>\n",
       "      <td>10367</td>\n",
       "    </tr>\n",
       "    <tr>\n",
       "      <th>3</th>\n",
       "      <td>Yellow Cab</td>\n",
       "      <td>9888</td>\n",
       "    </tr>\n",
       "    <tr>\n",
       "      <th>4</th>\n",
       "      <td>Taxi Affiliation Service Yellow</td>\n",
       "      <td>9299</td>\n",
       "    </tr>\n",
       "  </tbody>\n",
       "</table>\n",
       "</div>"
      ],
      "text/plain": [
       "                      company_name  trips_amount\n",
       "0                        Flash Cab         19558\n",
       "1        Taxi Affiliation Services         11422\n",
       "2                 Medallion Leasin         10367\n",
       "3                       Yellow Cab          9888\n",
       "4  Taxi Affiliation Service Yellow          9299"
      ]
     },
     "execution_count": 24,
     "metadata": {},
     "output_type": "execute_result"
    }
   ],
   "source": [
    "company_rides.head()"
   ]
  },
  {
   "cell_type": "code",
   "execution_count": 25,
   "metadata": {},
   "outputs": [
    {
     "data": {
      "text/html": [
       "<div>\n",
       "<style scoped>\n",
       "    .dataframe tbody tr th:only-of-type {\n",
       "        vertical-align: middle;\n",
       "    }\n",
       "\n",
       "    .dataframe tbody tr th {\n",
       "        vertical-align: top;\n",
       "    }\n",
       "\n",
       "    .dataframe thead th {\n",
       "        text-align: right;\n",
       "    }\n",
       "</style>\n",
       "<table border=\"1\" class=\"dataframe\">\n",
       "  <thead>\n",
       "    <tr style=\"text-align: right;\">\n",
       "      <th></th>\n",
       "      <th>trips_amount</th>\n",
       "    </tr>\n",
       "    <tr>\n",
       "      <th>company_name</th>\n",
       "      <th></th>\n",
       "    </tr>\n",
       "  </thead>\n",
       "  <tbody>\n",
       "    <tr>\n",
       "      <th>Flash Cab</th>\n",
       "      <td>19558</td>\n",
       "    </tr>\n",
       "    <tr>\n",
       "      <th>Taxi Affiliation Services</th>\n",
       "      <td>11422</td>\n",
       "    </tr>\n",
       "    <tr>\n",
       "      <th>Medallion Leasin</th>\n",
       "      <td>10367</td>\n",
       "    </tr>\n",
       "    <tr>\n",
       "      <th>Yellow Cab</th>\n",
       "      <td>9888</td>\n",
       "    </tr>\n",
       "    <tr>\n",
       "      <th>Taxi Affiliation Service Yellow</th>\n",
       "      <td>9299</td>\n",
       "    </tr>\n",
       "  </tbody>\n",
       "</table>\n",
       "</div>"
      ],
      "text/plain": [
       "                                 trips_amount\n",
       "company_name                                 \n",
       "Flash Cab                               19558\n",
       "Taxi Affiliation Services               11422\n",
       "Medallion Leasin                        10367\n",
       "Yellow Cab                               9888\n",
       "Taxi Affiliation Service Yellow          9299"
      ]
     },
     "execution_count": 25,
     "metadata": {},
     "output_type": "execute_result"
    }
   ],
   "source": [
    "#Make company_name into index\n",
    "company_rides_index = company_rides.set_index('company_name')\n",
    "company_rides_index.head()"
   ]
  },
  {
   "cell_type": "markdown",
   "metadata": {},
   "source": [
    "<a id='3.3heading'></a>"
   ]
  },
  {
   "cell_type": "markdown",
   "metadata": {},
   "source": [
    "### Analysis"
   ]
  },
  {
   "cell_type": "code",
   "execution_count": 26,
   "metadata": {},
   "outputs": [
    {
     "data": {
      "image/png": "[encoded data removed]",
      "text/plain": [
       "<Figure size 576x288 with 1 Axes>"
      ]
     },
     "metadata": {
      "needs_background": "light"
     },
     "output_type": "display_data"
    }
   ],
   "source": [
    "#Bar chart for neighborhood_trips_top_10_index\n",
    "neighborhood_trips_top_10_index.plot(kind='bar', figsize = (8,4))\n",
    "plt.title('Average number of rides that ended in each neighborhood: Nov. 2017')\n",
    "plt.xlabel('Neighborhood', rotation=0)\n",
    "plt.ylabel('Rides           ', rotation=0)\n",
    "plt.show()"
   ]
  },
  {
   "cell_type": "code",
   "execution_count": 27,
   "metadata": {},
   "outputs": [
    {
     "data": {
      "text/plain": [
       "0.7417676440662289"
      ]
     },
     "execution_count": 27,
     "metadata": {},
     "output_type": "execute_result"
    }
   ],
   "source": [
    "#Proportion of top 3 neighborhoods\n",
    "neighborhood_trips_top_10_index['average_trips'][:4].sum()/neighborhood_trips_top_10_index['average_trips'].sum()"
   ]
  },
  {
   "cell_type": "markdown",
   "metadata": {},
   "source": [
    "Loop, River North, Streeterville and West Loop are the top 4 neighborhoods with highest average number of rides and they account for almost 75% of rides. These 4 four neighborhoods are located close to each other in the Central, Near North, and Near South Side of Chicago. We can confirm this in the following page: http://www.thechicago77.com/chicago-neighborhoods/. These neighborhoods very popular places in the city making it likely to transfer between these places. This explains the high amount of average trips."
   ]
  },
  {
   "cell_type": "code",
   "execution_count": 28,
   "metadata": {},
   "outputs": [
    {
     "data": {
      "text/html": [
       "<div>\n",
       "<style scoped>\n",
       "    .dataframe tbody tr th:only-of-type {\n",
       "        vertical-align: middle;\n",
       "    }\n",
       "\n",
       "    .dataframe tbody tr th {\n",
       "        vertical-align: top;\n",
       "    }\n",
       "\n",
       "    .dataframe thead th {\n",
       "        text-align: right;\n",
       "    }\n",
       "</style>\n",
       "<table border=\"1\" class=\"dataframe\">\n",
       "  <thead>\n",
       "    <tr style=\"text-align: right;\">\n",
       "      <th></th>\n",
       "      <th>trips_amount</th>\n",
       "    </tr>\n",
       "    <tr>\n",
       "      <th>company_name</th>\n",
       "      <th></th>\n",
       "    </tr>\n",
       "  </thead>\n",
       "  <tbody>\n",
       "    <tr>\n",
       "      <th>Flash Cab</th>\n",
       "      <td>19558</td>\n",
       "    </tr>\n",
       "    <tr>\n",
       "      <th>Taxi Affiliation Services</th>\n",
       "      <td>11422</td>\n",
       "    </tr>\n",
       "    <tr>\n",
       "      <th>Medallion Leasin</th>\n",
       "      <td>10367</td>\n",
       "    </tr>\n",
       "    <tr>\n",
       "      <th>Yellow Cab</th>\n",
       "      <td>9888</td>\n",
       "    </tr>\n",
       "    <tr>\n",
       "      <th>Taxi Affiliation Service Yellow</th>\n",
       "      <td>9299</td>\n",
       "    </tr>\n",
       "    <tr>\n",
       "      <th>Chicago Carriage Cab Corp</th>\n",
       "      <td>9181</td>\n",
       "    </tr>\n",
       "    <tr>\n",
       "      <th>City Service</th>\n",
       "      <td>8448</td>\n",
       "    </tr>\n",
       "    <tr>\n",
       "      <th>Sun Taxi</th>\n",
       "      <td>7701</td>\n",
       "    </tr>\n",
       "    <tr>\n",
       "      <th>Star North Management LLC</th>\n",
       "      <td>7455</td>\n",
       "    </tr>\n",
       "    <tr>\n",
       "      <th>Blue Ribbon Taxi Association Inc.</th>\n",
       "      <td>5953</td>\n",
       "    </tr>\n",
       "  </tbody>\n",
       "</table>\n",
       "</div>"
      ],
      "text/plain": [
       "                                   trips_amount\n",
       "company_name                                   \n",
       "Flash Cab                                 19558\n",
       "Taxi Affiliation Services                 11422\n",
       "Medallion Leasin                          10367\n",
       "Yellow Cab                                 9888\n",
       "Taxi Affiliation Service Yellow            9299\n",
       "Chicago Carriage Cab Corp                  9181\n",
       "City Service                               8448\n",
       "Sun Taxi                                   7701\n",
       "Star North Management LLC                  7455\n",
       "Blue Ribbon Taxi Association Inc.          5953"
      ]
     },
     "execution_count": 28,
     "metadata": {},
     "output_type": "execute_result"
    }
   ],
   "source": [
    "#Getting top 10 companies\n",
    "company_rides_index_top_10 = company_rides_index.head(10)\n",
    "company_rides_index_top_10"
   ]
  },
  {
   "cell_type": "code",
   "execution_count": 29,
   "metadata": {},
   "outputs": [
    {
     "data": {
      "image/png": "[encoded data removed]",
      "text/plain": [
       "<Figure size 1152x576 with 1 Axes>"
      ]
     },
     "metadata": {
      "needs_background": "light"
     },
     "output_type": "display_data"
    }
   ],
   "source": [
    "#Bar chart for company_rides_index_top_10\n",
    "company_rides_index_top_10.plot(kind='bar', figsize = (16,8))\n",
    "plt.title('Number of rides for each taxi company: Nov. 15-16, 2017')\n",
    "plt.xlabel('Companies', rotation=0)\n",
    "plt.ylabel('Rides           ', rotation=0)\n",
    "plt.show()"
   ]
  },
  {
   "cell_type": "code",
   "execution_count": 30,
   "metadata": {},
   "outputs": [
    {
     "data": {
      "text/plain": [
       "0.5077160606215089"
      ]
     },
     "execution_count": 30,
     "metadata": {},
     "output_type": "execute_result"
    }
   ],
   "source": [
    "#Proportion of top 6 companies in company_rides_index to account for all companies\n",
    "company_rides_index['trips_amount'][:6].sum()/company_rides_index['trips_amount'].sum()"
   ]
  },
  {
   "cell_type": "markdown",
   "metadata": {},
   "source": [
    "The top 6 companies account for 50% of the marketshare.\n",
    "\n",
    "- Flashcab began service in 1945 and differentiates itself by offering a flat rate for corporate rides from Loop to the suburbs. It also offers competitive pricing for trips to the O'Hare and Midway airports.\n",
    "- Taxi Affiliation Services provides support services to transportation companies. They operate in the automobile rental and leasing industry.\n",
    "- Medallion Leasing is a taxicab license manager.\n",
    "- Yellow Cab was founded by Hertz and created the iconic yellow cab concept. It operates a taxicab fleet.\n",
    "- Taxi Affiliation Services Yellow - unable to find information.\n",
    "- Chicago Carriage Cab Corp operates a taxicab fleet."
   ]
  },
  {
   "cell_type": "markdown",
   "metadata": {},
   "source": [
    "<a id='4heading'></a>"
   ]
  },
  {
   "cell_type": "markdown",
   "metadata": {},
   "source": [
    "## Testing hypotheses"
   ]
  },
  {
   "cell_type": "code",
   "execution_count": 31,
   "metadata": {},
   "outputs": [
    {
     "data": {
      "text/html": [
       "<div>\n",
       "<style scoped>\n",
       "    .dataframe tbody tr th:only-of-type {\n",
       "        vertical-align: middle;\n",
       "    }\n",
       "\n",
       "    .dataframe tbody tr th {\n",
       "        vertical-align: top;\n",
       "    }\n",
       "\n",
       "    .dataframe thead th {\n",
       "        text-align: right;\n",
       "    }\n",
       "</style>\n",
       "<table border=\"1\" class=\"dataframe\">\n",
       "  <thead>\n",
       "    <tr style=\"text-align: right;\">\n",
       "      <th></th>\n",
       "      <th>start_ts</th>\n",
       "      <th>weather_conditions</th>\n",
       "      <th>duration_seconds</th>\n",
       "      <th>dow</th>\n",
       "    </tr>\n",
       "  </thead>\n",
       "  <tbody>\n",
       "    <tr>\n",
       "      <th>0</th>\n",
       "      <td>2017-11-25 16:00:00</td>\n",
       "      <td>Good</td>\n",
       "      <td>2410</td>\n",
       "      <td>5</td>\n",
       "    </tr>\n",
       "    <tr>\n",
       "      <th>1</th>\n",
       "      <td>2017-11-25 14:00:00</td>\n",
       "      <td>Good</td>\n",
       "      <td>1920</td>\n",
       "      <td>5</td>\n",
       "    </tr>\n",
       "    <tr>\n",
       "      <th>2</th>\n",
       "      <td>2017-11-25 12:00:00</td>\n",
       "      <td>Good</td>\n",
       "      <td>1543</td>\n",
       "      <td>5</td>\n",
       "    </tr>\n",
       "    <tr>\n",
       "      <th>3</th>\n",
       "      <td>2017-11-04 10:00:00</td>\n",
       "      <td>Good</td>\n",
       "      <td>2512</td>\n",
       "      <td>5</td>\n",
       "    </tr>\n",
       "    <tr>\n",
       "      <th>4</th>\n",
       "      <td>2017-11-11 07:00:00</td>\n",
       "      <td>Good</td>\n",
       "      <td>1440</td>\n",
       "      <td>5</td>\n",
       "    </tr>\n",
       "  </tbody>\n",
       "</table>\n",
       "</div>"
      ],
      "text/plain": [
       "             start_ts weather_conditions  duration_seconds  dow\n",
       "0 2017-11-25 16:00:00               Good              2410    5\n",
       "1 2017-11-25 14:00:00               Good              1920    5\n",
       "2 2017-11-25 12:00:00               Good              1543    5\n",
       "3 2017-11-04 10:00:00               Good              2512    5\n",
       "4 2017-11-11 07:00:00               Good              1440    5"
      ]
     },
     "execution_count": 31,
     "metadata": {},
     "output_type": "execute_result"
    }
   ],
   "source": [
    "#Making column with day of week\n",
    "loop_to_airport['dow'] = pd.DatetimeIndex(loop_to_airport['start_ts']).dayofweek\n",
    "loop_to_airport.head()"
   ]
  },
  {
   "cell_type": "code",
   "execution_count": 32,
   "metadata": {},
   "outputs": [
    {
     "data": {
      "text/plain": [
       "5    865\n",
       "Name: dow, dtype: int64"
      ]
     },
     "execution_count": 32,
     "metadata": {},
     "output_type": "execute_result"
    }
   ],
   "source": [
    "#Confirming all records are Saturdays\n",
    "loop_to_airport['dow'].value_counts()"
   ]
  },
  {
   "cell_type": "code",
   "execution_count": 33,
   "metadata": {},
   "outputs": [],
   "source": [
    "#Query with dow = 5 (saturday) and query with rest of days\n",
    "loop_to_airport_good_days = loop_to_airport.query('weather_conditions == \"Good\"')\n",
    "loop_to_airport_bad_days = loop_to_airport.query('weather_conditions == \"Bad\"')"
   ]
  },
  {
   "cell_type": "code",
   "execution_count": 34,
   "metadata": {},
   "outputs": [
    {
     "name": "stdout",
     "output_type": "stream",
     "text": [
      "Clear days mean: 2049.2594142259413\n",
      "Rainy days mean: 2409.2297297297296\n",
      "Clear days variance: 567538.2925368935\n",
      "Rainy days variance: 561003.0958729\n"
     ]
    }
   ],
   "source": [
    "print(\"Clear days mean:\", loop_to_airport_good_days['duration_seconds'].mean())\n",
    "print(\"Rainy days mean:\", loop_to_airport_bad_days['duration_seconds'].mean())\n",
    "print('Clear days variance:', np.var(loop_to_airport_good_days['duration_seconds']))\n",
    "print('Rainy days variance:', np.var(loop_to_airport_bad_days['duration_seconds']))"
   ]
  },
  {
   "cell_type": "code",
   "execution_count": 35,
   "metadata": {},
   "outputs": [
    {
     "data": {
      "image/png": "[encoded data removed]",
      "text/plain": [
       "<Figure size 432x288 with 1 Axes>"
      ]
     },
     "metadata": {
      "needs_background": "light"
     },
     "output_type": "display_data"
    }
   ],
   "source": [
    "#Show distributions to check whether distributions are similar\n",
    "loop_to_airport_good_days.hist('duration_seconds', bins = 30)\n",
    "plt.title('Ride Duration Clear Days')\n",
    "plt.xlabel('Seconds')\n",
    "plt.ylabel('Rides           ', rotation=0)\n",
    "plt.show()"
   ]
  },
  {
   "cell_type": "code",
   "execution_count": 36,
   "metadata": {},
   "outputs": [
    {
     "data": {
      "image/png": "[encoded data removed]",
      "text/plain": [
       "<Figure size 432x288 with 1 Axes>"
      ]
     },
     "metadata": {
      "needs_background": "light"
     },
     "output_type": "display_data"
    }
   ],
   "source": [
    "#Show distributions to check whether distributions are similar\n",
    "loop_to_airport_bad_days.hist('duration_seconds', bins = 30)\n",
    "plt.title('Ride Duration Rainy Days')\n",
    "plt.xlabel('Seconds')\n",
    "plt.ylabel('Rides           ', rotation=0)\n",
    "plt.show()"
   ]
  },
  {
   "cell_type": "markdown",
   "metadata": {},
   "source": [
    "<ins>Experiment<ins/>\n",
    "\n",
    "Null Hypothesis H0: The average duration of rides from the Loop to O'Hare International Airport does not change on rainy Saturdays\n",
    "\n",
    "Alternative Hypothesis H1: The average duration of rides from the Loop to O'Hare International Airport changes on rainy Saturdays"
   ]
  },
  {
   "cell_type": "code",
   "execution_count": 37,
   "metadata": {},
   "outputs": [
    {
     "name": "stdout",
     "output_type": "stream",
     "text": [
      "p-value: 1.5394237752380357e-07\n",
      "We reject the null hypothesis\n"
     ]
    }
   ],
   "source": [
    "#Experiment\n",
    "alpha = 0.05 #set a critical statistical significance level\n",
    "\n",
    "results = st.ttest_ind(loop_to_airport_good_days['duration_seconds'], loop_to_airport_bad_days['duration_seconds'], equal_var = True) # test the hypothesis that the means of the two independent populations are equal\n",
    "\n",
    "print('p-value:', results.pvalue) #print the p-value\n",
    "\n",
    "if results.pvalue < alpha:\n",
    "    print(\"We reject the null hypothesis\")\n",
    "else:\n",
    "    print(\"We can't reject the null hypothesis\")"
   ]
  },
  {
   "cell_type": "markdown",
   "metadata": {},
   "source": [
    "We've used the Hypothesis on the Equality of Two Population Means because we need to compare the means of two different statistical populations.\n",
    "\n",
    "Our analysis suggests that ride duration for clear Saturday days and rainy Saturday days does differ because the p-value is such a miniscule amount lower than our 0.05 significance level.\n",
    "\n",
    "We set the significance level at 0.05 because that level indicates a 5% risk of concluding that a difference exists when there is no actual difference. This level has been traditionally used in statistics. Additionally, we've set equal_var as True because the variances of both columns almost equal to each other."
   ]
  },
  {
   "cell_type": "markdown",
   "metadata": {},
   "source": [
    "<a id='5heading'></a>"
   ]
  },
  {
   "cell_type": "markdown",
   "metadata": {},
   "source": [
    "## Overall Conclusion"
   ]
  },
  {
   "cell_type": "markdown",
   "metadata": {},
   "source": [
    "We saw from our analysis that the top 4 neighborhoods account for almost 75% of the ride destinations in Chicago. These neighborhoods are Loop, River North, Streeterville and West Loop. This phenomenon is due to them being some of the most popular neighborhoods to visit in the city. They are also close to each other, which explains the high amount of rides in those areas. Zuber can make an effort to have a high amount of riders roam those areas in order to capture the high demand.\n",
    "\n",
    "We noticed that the top 6 taxi/ride-sharing competitors actually own 50% of the market share. Zuber can expand its business operations participating in the automobile rental and leasing industry and open up rental points in the most popular neighborhoods.\n",
    "\n",
    "After doing our statistical experiment, we found out that ride duration does differ between between rainy Saturdays and clear Saturday since our p-value happened to be a miniscule amount. After taking their means, we noticed that rides on clear Saturdays are on-average 360 seconds / 6 minutes shorter than rides on rainy Saturdays.\n",
    "\n",
    "A 6 minute difference in rides between rainy and clear days is quite drastic. When a day is rainy, demand to order a ride increases when the alternative is public transportation. This increase in demand allows for Zuber to charge more for rides to the airport on rainy days. We have to take into account that traffic probably increases on a rainy day (increasing cost per ride since rides take longer), which further justify an increase in price by Zuber.\n"
   ]
  }
 ],
 "metadata": {
  "ExecuteTimeLog": [
   {
    "duration": 66,
    "start_time": "2021-06-18T21:02:19.381Z"
   },
   {
    "duration": 954,
    "start_time": "2021-06-18T21:03:26.108Z"
   },
   {
    "duration": 164,
    "start_time": "2021-06-18T21:13:22.847Z"
   },
   {
    "duration": 6,
    "start_time": "2021-06-18T22:30:09.100Z"
   },
   {
    "duration": 8,
    "start_time": "2021-06-18T22:30:13.593Z"
   },
   {
    "duration": 5,
    "start_time": "2021-06-18T22:30:17.696Z"
   },
   {
    "duration": 12,
    "start_time": "2021-06-18T22:30:26.832Z"
   },
   {
    "duration": 14,
    "start_time": "2021-06-18T22:30:37.505Z"
   },
   {
    "duration": 14,
    "start_time": "2021-06-18T22:31:16.970Z"
   },
   {
    "duration": 21,
    "start_time": "2021-06-18T22:31:27.177Z"
   },
   {
    "duration": 8,
    "start_time": "2021-06-18T22:34:55.640Z"
   },
   {
    "duration": 9,
    "start_time": "2021-06-18T22:35:13.789Z"
   },
   {
    "duration": 8,
    "start_time": "2021-06-18T22:35:23.684Z"
   },
   {
    "duration": 5,
    "start_time": "2021-06-18T22:36:13.839Z"
   },
   {
    "duration": 7,
    "start_time": "2021-06-18T22:36:34.591Z"
   },
   {
    "duration": 5,
    "start_time": "2021-06-18T22:36:35.758Z"
   },
   {
    "duration": 4,
    "start_time": "2021-06-18T22:42:06.926Z"
   },
   {
    "duration": 5,
    "start_time": "2021-06-18T22:42:10.683Z"
   },
   {
    "duration": 4,
    "start_time": "2021-06-18T22:42:19.243Z"
   },
   {
    "duration": 5,
    "start_time": "2021-06-18T22:42:23.394Z"
   },
   {
    "duration": 6,
    "start_time": "2021-06-18T22:55:11.433Z"
   },
   {
    "duration": 252,
    "start_time": "2021-06-18T22:57:08.527Z"
   },
   {
    "duration": 5,
    "start_time": "2021-06-18T22:57:16.578Z"
   },
   {
    "duration": 6,
    "start_time": "2021-06-18T22:57:37.984Z"
   },
   {
    "duration": 5,
    "start_time": "2021-06-18T22:57:58.812Z"
   },
   {
    "duration": 6,
    "start_time": "2021-06-18T22:57:59.513Z"
   },
   {
    "duration": 172,
    "start_time": "2021-06-18T23:00:06.788Z"
   },
   {
    "duration": 12,
    "start_time": "2021-06-18T23:00:13.301Z"
   },
   {
    "duration": 13,
    "start_time": "2021-06-18T23:01:57.830Z"
   },
   {
    "duration": 12,
    "start_time": "2021-06-18T23:03:20.674Z"
   },
   {
    "duration": 12,
    "start_time": "2021-06-18T23:03:37.132Z"
   },
   {
    "duration": 11,
    "start_time": "2021-06-18T23:11:09.626Z"
   },
   {
    "duration": 978,
    "start_time": "2021-06-18T23:25:12.281Z"
   },
   {
    "duration": 56,
    "start_time": "2021-06-18T23:25:13.261Z"
   },
   {
    "duration": 17,
    "start_time": "2021-06-18T23:25:13.319Z"
   },
   {
    "duration": 13,
    "start_time": "2021-06-18T23:25:13.338Z"
   },
   {
    "duration": 15,
    "start_time": "2021-06-18T23:25:13.353Z"
   },
   {
    "duration": 8,
    "start_time": "2021-06-18T23:25:13.370Z"
   },
   {
    "duration": 10,
    "start_time": "2021-06-18T23:25:13.379Z"
   },
   {
    "duration": 7,
    "start_time": "2021-06-18T23:25:13.391Z"
   },
   {
    "duration": 5,
    "start_time": "2021-06-18T23:25:13.399Z"
   },
   {
    "duration": 6,
    "start_time": "2021-06-18T23:25:13.406Z"
   },
   {
    "duration": 5,
    "start_time": "2021-06-18T23:25:13.413Z"
   },
   {
    "duration": 7,
    "start_time": "2021-06-18T23:25:13.420Z"
   },
   {
    "duration": 6,
    "start_time": "2021-06-18T23:25:13.429Z"
   },
   {
    "duration": 51,
    "start_time": "2021-06-18T23:25:13.437Z"
   },
   {
    "duration": 6,
    "start_time": "2021-06-18T23:25:13.489Z"
   },
   {
    "duration": 12,
    "start_time": "2021-06-18T23:25:13.496Z"
   },
   {
    "duration": 6,
    "start_time": "2021-06-18T23:25:49.944Z"
   },
   {
    "duration": 12,
    "start_time": "2021-06-18T23:29:48.707Z"
   },
   {
    "duration": 8,
    "start_time": "2021-06-18T23:33:58.546Z"
   },
   {
    "duration": 263,
    "start_time": "2021-06-18T23:42:05.368Z"
   },
   {
    "duration": 7,
    "start_time": "2021-06-18T23:42:43.700Z"
   },
   {
    "duration": 7,
    "start_time": "2021-06-18T23:42:54.329Z"
   },
   {
    "duration": 6,
    "start_time": "2021-06-18T23:43:49.970Z"
   },
   {
    "duration": 962,
    "start_time": "2021-06-19T00:37:10.543Z"
   },
   {
    "duration": 56,
    "start_time": "2021-06-19T00:37:11.507Z"
   },
   {
    "duration": 15,
    "start_time": "2021-06-19T00:37:11.565Z"
   },
   {
    "duration": 15,
    "start_time": "2021-06-19T00:37:11.582Z"
   },
   {
    "duration": 14,
    "start_time": "2021-06-19T00:37:11.599Z"
   },
   {
    "duration": 7,
    "start_time": "2021-06-19T00:37:11.615Z"
   },
   {
    "duration": 7,
    "start_time": "2021-06-19T00:37:11.623Z"
   },
   {
    "duration": 5,
    "start_time": "2021-06-19T00:37:11.633Z"
   },
   {
    "duration": 46,
    "start_time": "2021-06-19T00:37:11.640Z"
   },
   {
    "duration": 4,
    "start_time": "2021-06-19T00:37:11.688Z"
   },
   {
    "duration": 7,
    "start_time": "2021-06-19T00:37:11.693Z"
   },
   {
    "duration": 5,
    "start_time": "2021-06-19T00:37:11.701Z"
   },
   {
    "duration": 5,
    "start_time": "2021-06-19T00:37:11.708Z"
   },
   {
    "duration": 60,
    "start_time": "2021-06-19T00:37:11.715Z"
   },
   {
    "duration": -310,
    "start_time": "2021-06-19T00:37:12.086Z"
   },
   {
    "duration": -312,
    "start_time": "2021-06-19T00:37:12.089Z"
   },
   {
    "duration": -314,
    "start_time": "2021-06-19T00:37:12.092Z"
   },
   {
    "duration": -318,
    "start_time": "2021-06-19T00:37:12.097Z"
   },
   {
    "duration": -551,
    "start_time": "2021-06-19T00:37:12.331Z"
   },
   {
    "duration": 972,
    "start_time": "2021-06-19T00:37:22.780Z"
   },
   {
    "duration": 57,
    "start_time": "2021-06-19T00:37:23.754Z"
   },
   {
    "duration": 14,
    "start_time": "2021-06-19T00:37:23.813Z"
   },
   {
    "duration": 13,
    "start_time": "2021-06-19T00:37:23.828Z"
   },
   {
    "duration": 15,
    "start_time": "2021-06-19T00:37:23.843Z"
   },
   {
    "duration": 25,
    "start_time": "2021-06-19T00:37:23.860Z"
   },
   {
    "duration": 6,
    "start_time": "2021-06-19T00:37:23.887Z"
   },
   {
    "duration": 7,
    "start_time": "2021-06-19T00:37:23.896Z"
   },
   {
    "duration": 4,
    "start_time": "2021-06-19T00:37:23.905Z"
   },
   {
    "duration": 11,
    "start_time": "2021-06-19T00:37:23.911Z"
   },
   {
    "duration": 6,
    "start_time": "2021-06-19T00:37:23.924Z"
   },
   {
    "duration": 7,
    "start_time": "2021-06-19T00:37:23.932Z"
   },
   {
    "duration": 50,
    "start_time": "2021-06-19T00:37:23.940Z"
   },
   {
    "duration": 11,
    "start_time": "2021-06-19T00:37:23.991Z"
   },
   {
    "duration": 13,
    "start_time": "2021-06-19T00:37:24.003Z"
   },
   {
    "duration": 6,
    "start_time": "2021-06-19T00:37:24.017Z"
   },
   {
    "duration": 10,
    "start_time": "2021-06-19T00:37:24.025Z"
   },
   {
    "duration": 7,
    "start_time": "2021-06-19T00:37:24.037Z"
   },
   {
    "duration": 8,
    "start_time": "2021-06-19T00:37:24.085Z"
   },
   {
    "duration": 286,
    "start_time": "2021-06-19T00:39:02.008Z"
   },
   {
    "duration": 7,
    "start_time": "2021-06-19T00:39:56.870Z"
   },
   {
    "duration": 288,
    "start_time": "2021-06-19T00:40:00.899Z"
   },
   {
    "duration": 4,
    "start_time": "2021-06-19T00:40:09.420Z"
   },
   {
    "duration": 291,
    "start_time": "2021-06-19T00:40:11.052Z"
   },
   {
    "duration": 257,
    "start_time": "2021-06-19T00:40:23.439Z"
   },
   {
    "duration": 994,
    "start_time": "2021-06-19T00:40:32.365Z"
   },
   {
    "duration": 55,
    "start_time": "2021-06-19T00:40:33.361Z"
   },
   {
    "duration": 13,
    "start_time": "2021-06-19T00:40:33.418Z"
   },
   {
    "duration": 16,
    "start_time": "2021-06-19T00:40:33.433Z"
   },
   {
    "duration": 14,
    "start_time": "2021-06-19T00:40:33.450Z"
   },
   {
    "duration": 6,
    "start_time": "2021-06-19T00:40:33.466Z"
   },
   {
    "duration": 12,
    "start_time": "2021-06-19T00:40:33.473Z"
   },
   {
    "duration": 5,
    "start_time": "2021-06-19T00:40:33.486Z"
   },
   {
    "duration": 6,
    "start_time": "2021-06-19T00:40:33.494Z"
   },
   {
    "duration": 9,
    "start_time": "2021-06-19T00:40:33.501Z"
   },
   {
    "duration": 8,
    "start_time": "2021-06-19T00:40:33.512Z"
   },
   {
    "duration": 8,
    "start_time": "2021-06-19T00:40:33.521Z"
   },
   {
    "duration": 6,
    "start_time": "2021-06-19T00:40:33.530Z"
   },
   {
    "duration": 6,
    "start_time": "2021-06-19T00:40:33.538Z"
   },
   {
    "duration": 5,
    "start_time": "2021-06-19T00:40:33.584Z"
   },
   {
    "duration": 6,
    "start_time": "2021-06-19T00:40:33.590Z"
   },
   {
    "duration": 9,
    "start_time": "2021-06-19T00:40:33.598Z"
   },
   {
    "duration": 6,
    "start_time": "2021-06-19T00:40:33.609Z"
   },
   {
    "duration": 6,
    "start_time": "2021-06-19T00:40:33.616Z"
   },
   {
    "duration": 8,
    "start_time": "2021-06-19T00:40:33.623Z"
   },
   {
    "duration": 321,
    "start_time": "2021-06-19T00:40:33.632Z"
   },
   {
    "duration": 259,
    "start_time": "2021-06-19T00:41:48.962Z"
   },
   {
    "duration": 190,
    "start_time": "2021-06-19T00:41:57.722Z"
   },
   {
    "duration": 289,
    "start_time": "2021-06-19T00:42:10.603Z"
   },
   {
    "duration": 982,
    "start_time": "2021-06-19T00:42:29.606Z"
   },
   {
    "duration": 57,
    "start_time": "2021-06-19T00:42:30.590Z"
   },
   {
    "duration": 18,
    "start_time": "2021-06-19T00:42:30.649Z"
   },
   {
    "duration": 31,
    "start_time": "2021-06-19T00:42:30.670Z"
   },
   {
    "duration": 23,
    "start_time": "2021-06-19T00:42:30.703Z"
   },
   {
    "duration": 23,
    "start_time": "2021-06-19T00:42:30.727Z"
   },
   {
    "duration": 10,
    "start_time": "2021-06-19T00:42:30.751Z"
   },
   {
    "duration": 18,
    "start_time": "2021-06-19T00:42:30.763Z"
   },
   {
    "duration": 28,
    "start_time": "2021-06-19T00:42:30.783Z"
   },
   {
    "duration": 45,
    "start_time": "2021-06-19T00:42:30.812Z"
   },
   {
    "duration": 23,
    "start_time": "2021-06-19T00:42:30.858Z"
   },
   {
    "duration": 16,
    "start_time": "2021-06-19T00:42:30.882Z"
   },
   {
    "duration": 28,
    "start_time": "2021-06-19T00:42:30.900Z"
   },
   {
    "duration": 14,
    "start_time": "2021-06-19T00:42:30.930Z"
   },
   {
    "duration": 13,
    "start_time": "2021-06-19T00:42:30.946Z"
   },
   {
    "duration": 15,
    "start_time": "2021-06-19T00:42:30.961Z"
   },
   {
    "duration": 35,
    "start_time": "2021-06-19T00:42:30.977Z"
   },
   {
    "duration": 12,
    "start_time": "2021-06-19T00:42:31.014Z"
   },
   {
    "duration": 23,
    "start_time": "2021-06-19T00:42:31.028Z"
   },
   {
    "duration": 301,
    "start_time": "2021-06-19T00:42:31.053Z"
   },
   {
    "duration": 8,
    "start_time": "2021-06-19T00:42:41.602Z"
   },
   {
    "duration": 294,
    "start_time": "2021-06-19T00:42:43.970Z"
   },
   {
    "duration": 294,
    "start_time": "2021-06-19T00:43:47.035Z"
   },
   {
    "duration": 290,
    "start_time": "2021-06-19T00:44:42.244Z"
   },
   {
    "duration": 197,
    "start_time": "2021-06-19T00:44:47.690Z"
   },
   {
    "duration": 961,
    "start_time": "2021-06-19T00:45:51.291Z"
   },
   {
    "duration": 56,
    "start_time": "2021-06-19T00:45:52.254Z"
   },
   {
    "duration": 13,
    "start_time": "2021-06-19T00:45:52.312Z"
   },
   {
    "duration": 13,
    "start_time": "2021-06-19T00:45:52.327Z"
   },
   {
    "duration": 14,
    "start_time": "2021-06-19T00:45:52.341Z"
   },
   {
    "duration": 7,
    "start_time": "2021-06-19T00:45:52.356Z"
   },
   {
    "duration": 20,
    "start_time": "2021-06-19T00:45:52.364Z"
   },
   {
    "duration": 5,
    "start_time": "2021-06-19T00:45:52.386Z"
   },
   {
    "duration": 4,
    "start_time": "2021-06-19T00:45:52.393Z"
   },
   {
    "duration": 6,
    "start_time": "2021-06-19T00:45:52.399Z"
   },
   {
    "duration": 9,
    "start_time": "2021-06-19T00:45:52.406Z"
   },
   {
    "duration": 9,
    "start_time": "2021-06-19T00:45:52.417Z"
   },
   {
    "duration": 13,
    "start_time": "2021-06-19T00:45:52.427Z"
   },
   {
    "duration": 8,
    "start_time": "2021-06-19T00:45:52.441Z"
   },
   {
    "duration": 37,
    "start_time": "2021-06-19T00:45:52.450Z"
   },
   {
    "duration": 5,
    "start_time": "2021-06-19T00:45:52.489Z"
   },
   {
    "duration": 14,
    "start_time": "2021-06-19T00:45:52.495Z"
   },
   {
    "duration": 6,
    "start_time": "2021-06-19T00:45:52.510Z"
   },
   {
    "duration": 12,
    "start_time": "2021-06-19T00:45:52.517Z"
   },
   {
    "duration": 7,
    "start_time": "2021-06-19T00:45:52.531Z"
   },
   {
    "duration": 240,
    "start_time": "2021-06-19T00:45:52.540Z"
   },
   {
    "duration": 195,
    "start_time": "2021-06-19T00:46:51.743Z"
   },
   {
    "duration": 215,
    "start_time": "2021-06-19T00:47:00.686Z"
   },
   {
    "duration": 211,
    "start_time": "2021-06-19T00:47:59.720Z"
   },
   {
    "duration": 207,
    "start_time": "2021-06-19T00:48:14.153Z"
   },
   {
    "duration": 211,
    "start_time": "2021-06-19T00:48:20.873Z"
   },
   {
    "duration": 211,
    "start_time": "2021-06-19T00:48:26.082Z"
   },
   {
    "duration": 210,
    "start_time": "2021-06-19T00:48:40.706Z"
   },
   {
    "duration": 3,
    "start_time": "2021-06-19T00:50:10.930Z"
   },
   {
    "duration": 7,
    "start_time": "2021-06-19T00:52:06.071Z"
   },
   {
    "duration": 8,
    "start_time": "2021-06-19T00:53:55.509Z"
   },
   {
    "duration": 201,
    "start_time": "2021-06-19T00:57:45.612Z"
   },
   {
    "duration": 264,
    "start_time": "2021-06-19T00:57:49.222Z"
   },
   {
    "duration": 202,
    "start_time": "2021-06-19T00:57:53.922Z"
   },
   {
    "duration": 997,
    "start_time": "2021-06-19T00:58:08.563Z"
   },
   {
    "duration": 56,
    "start_time": "2021-06-19T00:58:09.562Z"
   },
   {
    "duration": 13,
    "start_time": "2021-06-19T00:58:09.620Z"
   },
   {
    "duration": 14,
    "start_time": "2021-06-19T00:58:09.635Z"
   },
   {
    "duration": 12,
    "start_time": "2021-06-19T00:58:09.650Z"
   },
   {
    "duration": 7,
    "start_time": "2021-06-19T00:58:09.664Z"
   },
   {
    "duration": 16,
    "start_time": "2021-06-19T00:58:09.672Z"
   },
   {
    "duration": 6,
    "start_time": "2021-06-19T00:58:09.690Z"
   },
   {
    "duration": 6,
    "start_time": "2021-06-19T00:58:09.698Z"
   },
   {
    "duration": 8,
    "start_time": "2021-06-19T00:58:09.705Z"
   },
   {
    "duration": 7,
    "start_time": "2021-06-19T00:58:09.714Z"
   },
   {
    "duration": 7,
    "start_time": "2021-06-19T00:58:09.722Z"
   },
   {
    "duration": 6,
    "start_time": "2021-06-19T00:58:09.730Z"
   },
   {
    "duration": 50,
    "start_time": "2021-06-19T00:58:09.738Z"
   },
   {
    "duration": 5,
    "start_time": "2021-06-19T00:58:09.789Z"
   },
   {
    "duration": 6,
    "start_time": "2021-06-19T00:58:09.796Z"
   },
   {
    "duration": 13,
    "start_time": "2021-06-19T00:58:09.804Z"
   },
   {
    "duration": 7,
    "start_time": "2021-06-19T00:58:09.819Z"
   },
   {
    "duration": 7,
    "start_time": "2021-06-19T00:58:09.827Z"
   },
   {
    "duration": 53,
    "start_time": "2021-06-19T00:58:09.835Z"
   },
   {
    "duration": 6,
    "start_time": "2021-06-19T00:58:09.890Z"
   },
   {
    "duration": 7,
    "start_time": "2021-06-19T00:58:09.897Z"
   },
   {
    "duration": 239,
    "start_time": "2021-06-19T00:58:09.907Z"
   },
   {
    "duration": 240,
    "start_time": "2021-06-19T00:58:10.147Z"
   },
   {
    "duration": 6,
    "start_time": "2021-06-19T00:59:13.888Z"
   },
   {
    "duration": 64,
    "start_time": "2021-06-19T00:59:41.013Z"
   },
   {
    "duration": 58,
    "start_time": "2021-06-19T00:59:44.536Z"
   },
   {
    "duration": 6,
    "start_time": "2021-06-19T00:59:46.967Z"
   },
   {
    "duration": 6,
    "start_time": "2021-06-19T00:59:50.277Z"
   },
   {
    "duration": 256,
    "start_time": "2021-06-19T00:59:57.518Z"
   },
   {
    "duration": 7,
    "start_time": "2021-06-19T01:00:01.991Z"
   },
   {
    "duration": 63,
    "start_time": "2021-06-19T01:00:24.397Z"
   },
   {
    "duration": 2,
    "start_time": "2021-06-19T01:05:23.185Z"
   },
   {
    "duration": 9,
    "start_time": "2021-06-19T01:07:28.387Z"
   },
   {
    "duration": 9,
    "start_time": "2021-06-19T01:08:25.721Z"
   },
   {
    "duration": 11,
    "start_time": "2021-06-19T01:08:56.617Z"
   },
   {
    "duration": 9,
    "start_time": "2021-06-19T01:09:03.303Z"
   },
   {
    "duration": 11,
    "start_time": "2021-06-19T01:09:07.919Z"
   },
   {
    "duration": 10,
    "start_time": "2021-06-19T01:09:13.088Z"
   },
   {
    "duration": 11,
    "start_time": "2021-06-19T01:09:28.809Z"
   },
   {
    "duration": 7,
    "start_time": "2021-06-19T01:09:55.547Z"
   },
   {
    "duration": 8,
    "start_time": "2021-06-19T01:09:59.627Z"
   },
   {
    "duration": 9,
    "start_time": "2021-06-19T01:10:47.867Z"
   },
   {
    "duration": 8,
    "start_time": "2021-06-19T01:11:19.830Z"
   },
   {
    "duration": 8,
    "start_time": "2021-06-19T01:11:24.719Z"
   },
   {
    "duration": 3,
    "start_time": "2021-06-19T01:11:46.288Z"
   },
   {
    "duration": 2285,
    "start_time": "2021-06-19T01:11:55.929Z"
   },
   {
    "duration": 2320,
    "start_time": "2021-06-19T01:12:04.298Z"
   },
   {
    "duration": 959,
    "start_time": "2021-06-19T01:12:18.594Z"
   },
   {
    "duration": 56,
    "start_time": "2021-06-19T01:12:19.554Z"
   },
   {
    "duration": 23,
    "start_time": "2021-06-19T01:12:19.612Z"
   },
   {
    "duration": 13,
    "start_time": "2021-06-19T01:12:19.637Z"
   },
   {
    "duration": 17,
    "start_time": "2021-06-19T01:12:19.652Z"
   },
   {
    "duration": 8,
    "start_time": "2021-06-19T01:12:19.671Z"
   },
   {
    "duration": 7,
    "start_time": "2021-06-19T01:12:19.684Z"
   },
   {
    "duration": 7,
    "start_time": "2021-06-19T01:12:19.693Z"
   },
   {
    "duration": 4,
    "start_time": "2021-06-19T01:12:19.702Z"
   },
   {
    "duration": 6,
    "start_time": "2021-06-19T01:12:19.708Z"
   },
   {
    "duration": 7,
    "start_time": "2021-06-19T01:12:19.716Z"
   },
   {
    "duration": 8,
    "start_time": "2021-06-19T01:12:19.724Z"
   },
   {
    "duration": 53,
    "start_time": "2021-06-19T01:12:19.733Z"
   },
   {
    "duration": 8,
    "start_time": "2021-06-19T01:12:19.788Z"
   },
   {
    "duration": 8,
    "start_time": "2021-06-19T01:12:19.797Z"
   },
   {
    "duration": 6,
    "start_time": "2021-06-19T01:12:19.806Z"
   },
   {
    "duration": 12,
    "start_time": "2021-06-19T01:12:19.814Z"
   },
   {
    "duration": 7,
    "start_time": "2021-06-19T01:12:19.828Z"
   },
   {
    "duration": 8,
    "start_time": "2021-06-19T01:12:19.836Z"
   },
   {
    "duration": 43,
    "start_time": "2021-06-19T01:12:19.845Z"
   },
   {
    "duration": 245,
    "start_time": "2021-06-19T01:12:19.890Z"
   },
   {
    "duration": -146,
    "start_time": "2021-06-19T01:12:20.283Z"
   },
   {
    "duration": -147,
    "start_time": "2021-06-19T01:12:20.286Z"
   },
   {
    "duration": -148,
    "start_time": "2021-06-19T01:12:20.288Z"
   },
   {
    "duration": -177,
    "start_time": "2021-06-19T01:12:20.318Z"
   },
   {
    "duration": -177,
    "start_time": "2021-06-19T01:12:20.320Z"
   },
   {
    "duration": -178,
    "start_time": "2021-06-19T01:12:20.322Z"
   },
   {
    "duration": -178,
    "start_time": "2021-06-19T01:12:20.324Z"
   },
   {
    "duration": 185,
    "start_time": "2021-06-19T01:12:59.818Z"
   },
   {
    "duration": 5,
    "start_time": "2021-06-19T01:13:08.836Z"
   },
   {
    "duration": 1117,
    "start_time": "2021-06-19T01:19:01.839Z"
   },
   {
    "duration": 56,
    "start_time": "2021-06-19T01:19:02.957Z"
   },
   {
    "duration": 15,
    "start_time": "2021-06-19T01:19:03.015Z"
   },
   {
    "duration": 15,
    "start_time": "2021-06-19T01:19:03.032Z"
   },
   {
    "duration": 13,
    "start_time": "2021-06-19T01:19:03.049Z"
   },
   {
    "duration": 11,
    "start_time": "2021-06-19T01:19:03.063Z"
   },
   {
    "duration": 12,
    "start_time": "2021-06-19T01:19:03.076Z"
   },
   {
    "duration": 11,
    "start_time": "2021-06-19T01:19:03.091Z"
   },
   {
    "duration": 4,
    "start_time": "2021-06-19T01:19:03.104Z"
   },
   {
    "duration": 7,
    "start_time": "2021-06-19T01:19:03.109Z"
   },
   {
    "duration": 10,
    "start_time": "2021-06-19T01:19:03.117Z"
   },
   {
    "duration": 5,
    "start_time": "2021-06-19T01:19:03.129Z"
   },
   {
    "duration": 6,
    "start_time": "2021-06-19T01:19:03.135Z"
   },
   {
    "duration": 44,
    "start_time": "2021-06-19T01:19:03.143Z"
   },
   {
    "duration": 8,
    "start_time": "2021-06-19T01:19:03.189Z"
   },
   {
    "duration": 9,
    "start_time": "2021-06-19T01:19:03.198Z"
   },
   {
    "duration": 10,
    "start_time": "2021-06-19T01:19:03.208Z"
   },
   {
    "duration": 6,
    "start_time": "2021-06-19T01:19:03.220Z"
   },
   {
    "duration": 7,
    "start_time": "2021-06-19T01:19:03.228Z"
   },
   {
    "duration": 262,
    "start_time": "2021-06-19T01:19:03.284Z"
   },
   {
    "duration": -169,
    "start_time": "2021-06-19T01:19:03.717Z"
   },
   {
    "duration": -171,
    "start_time": "2021-06-19T01:19:03.719Z"
   },
   {
    "duration": -172,
    "start_time": "2021-06-19T01:19:03.721Z"
   },
   {
    "duration": -174,
    "start_time": "2021-06-19T01:19:03.724Z"
   },
   {
    "duration": -175,
    "start_time": "2021-06-19T01:19:03.726Z"
   },
   {
    "duration": -177,
    "start_time": "2021-06-19T01:19:03.728Z"
   },
   {
    "duration": -178,
    "start_time": "2021-06-19T01:19:03.730Z"
   },
   {
    "duration": -179,
    "start_time": "2021-06-19T01:19:03.732Z"
   },
   {
    "duration": 5,
    "start_time": "2021-06-19T01:20:28.422Z"
   },
   {
    "duration": 11,
    "start_time": "2021-06-19T01:20:38.340Z"
   },
   {
    "duration": 977,
    "start_time": "2021-06-19T01:20:51.971Z"
   },
   {
    "duration": 55,
    "start_time": "2021-06-19T01:20:52.949Z"
   },
   {
    "duration": 15,
    "start_time": "2021-06-19T01:20:53.006Z"
   },
   {
    "duration": 12,
    "start_time": "2021-06-19T01:20:53.023Z"
   },
   {
    "duration": 13,
    "start_time": "2021-06-19T01:20:53.037Z"
   },
   {
    "duration": 7,
    "start_time": "2021-06-19T01:20:53.052Z"
   },
   {
    "duration": 28,
    "start_time": "2021-06-19T01:20:53.060Z"
   },
   {
    "duration": 6,
    "start_time": "2021-06-19T01:20:53.091Z"
   },
   {
    "duration": 7,
    "start_time": "2021-06-19T01:20:53.099Z"
   },
   {
    "duration": 5,
    "start_time": "2021-06-19T01:20:53.107Z"
   },
   {
    "duration": 5,
    "start_time": "2021-06-19T01:20:53.114Z"
   },
   {
    "duration": 4,
    "start_time": "2021-06-19T01:20:53.121Z"
   },
   {
    "duration": 5,
    "start_time": "2021-06-19T01:20:53.127Z"
   },
   {
    "duration": 53,
    "start_time": "2021-06-19T01:20:53.133Z"
   },
   {
    "duration": 6,
    "start_time": "2021-06-19T01:20:53.188Z"
   },
   {
    "duration": 8,
    "start_time": "2021-06-19T01:20:53.196Z"
   },
   {
    "duration": 9,
    "start_time": "2021-06-19T01:20:53.206Z"
   },
   {
    "duration": 8,
    "start_time": "2021-06-19T01:20:53.216Z"
   },
   {
    "duration": 8,
    "start_time": "2021-06-19T01:20:53.225Z"
   },
   {
    "duration": 55,
    "start_time": "2021-06-19T01:20:53.234Z"
   },
   {
    "duration": 6,
    "start_time": "2021-06-19T01:20:53.291Z"
   },
   {
    "duration": 8,
    "start_time": "2021-06-19T01:20:53.298Z"
   },
   {
    "duration": 6,
    "start_time": "2021-06-19T01:20:53.308Z"
   },
   {
    "duration": 5,
    "start_time": "2021-06-19T01:20:53.316Z"
   },
   {
    "duration": 8,
    "start_time": "2021-06-19T01:20:53.323Z"
   },
   {
    "duration": 243,
    "start_time": "2021-06-19T01:20:53.332Z"
   },
   {
    "duration": 238,
    "start_time": "2021-06-19T01:20:53.577Z"
   },
   {
    "duration": 10,
    "start_time": "2021-06-19T01:20:53.817Z"
   },
   {
    "duration": 11,
    "start_time": "2021-06-19T01:21:08.904Z"
   },
   {
    "duration": 4,
    "start_time": "2021-06-19T01:21:16.520Z"
   },
   {
    "duration": 8,
    "start_time": "2021-06-19T01:21:17.989Z"
   },
   {
    "duration": 951,
    "start_time": "2021-06-19T01:21:48.817Z"
   },
   {
    "duration": 57,
    "start_time": "2021-06-19T01:21:49.770Z"
   },
   {
    "duration": 16,
    "start_time": "2021-06-19T01:21:49.829Z"
   },
   {
    "duration": 15,
    "start_time": "2021-06-19T01:21:49.847Z"
   },
   {
    "duration": 14,
    "start_time": "2021-06-19T01:21:49.863Z"
   },
   {
    "duration": 7,
    "start_time": "2021-06-19T01:21:49.878Z"
   },
   {
    "duration": 6,
    "start_time": "2021-06-19T01:21:49.887Z"
   },
   {
    "duration": 6,
    "start_time": "2021-06-19T01:21:49.895Z"
   },
   {
    "duration": 5,
    "start_time": "2021-06-19T01:21:49.903Z"
   },
   {
    "duration": 7,
    "start_time": "2021-06-19T01:21:49.909Z"
   },
   {
    "duration": 8,
    "start_time": "2021-06-19T01:21:49.918Z"
   },
   {
    "duration": 7,
    "start_time": "2021-06-19T01:21:49.928Z"
   },
   {
    "duration": 54,
    "start_time": "2021-06-19T01:21:49.936Z"
   },
   {
    "duration": 10,
    "start_time": "2021-06-19T01:21:49.992Z"
   },
   {
    "duration": 8,
    "start_time": "2021-06-19T01:21:50.004Z"
   },
   {
    "duration": 15,
    "start_time": "2021-06-19T01:21:50.014Z"
   },
   {
    "duration": 12,
    "start_time": "2021-06-19T01:21:50.031Z"
   },
   {
    "duration": 7,
    "start_time": "2021-06-19T01:21:50.045Z"
   },
   {
    "duration": 9,
    "start_time": "2021-06-19T01:21:50.085Z"
   },
   {
    "duration": 9,
    "start_time": "2021-06-19T01:21:50.095Z"
   },
   {
    "duration": 6,
    "start_time": "2021-06-19T01:21:50.105Z"
   },
   {
    "duration": 13,
    "start_time": "2021-06-19T01:21:50.112Z"
   },
   {
    "duration": 3,
    "start_time": "2021-06-19T01:21:50.128Z"
   },
   {
    "duration": 8,
    "start_time": "2021-06-19T01:21:50.133Z"
   },
   {
    "duration": 10,
    "start_time": "2021-06-19T01:21:50.143Z"
   },
   {
    "duration": 39,
    "start_time": "2021-06-19T01:21:50.154Z"
   },
   {
    "duration": 8,
    "start_time": "2021-06-19T01:21:50.195Z"
   },
   {
    "duration": 229,
    "start_time": "2021-06-19T01:21:50.205Z"
   },
   {
    "duration": 239,
    "start_time": "2021-06-19T01:21:50.436Z"
   },
   {
    "duration": 14,
    "start_time": "2021-06-19T01:21:50.677Z"
   },
   {
    "duration": 8,
    "start_time": "2021-06-19T01:24:59.021Z"
   },
   {
    "duration": 8,
    "start_time": "2021-06-19T01:25:32.017Z"
   },
   {
    "duration": 8,
    "start_time": "2021-06-19T01:34:46.564Z"
   },
   {
    "duration": 972,
    "start_time": "2021-06-19T01:35:16.188Z"
   },
   {
    "duration": 56,
    "start_time": "2021-06-19T01:35:17.162Z"
   },
   {
    "duration": 15,
    "start_time": "2021-06-19T01:35:17.219Z"
   },
   {
    "duration": 17,
    "start_time": "2021-06-19T01:35:17.235Z"
   },
   {
    "duration": 13,
    "start_time": "2021-06-19T01:35:17.254Z"
   },
   {
    "duration": 7,
    "start_time": "2021-06-19T01:35:17.269Z"
   },
   {
    "duration": 5,
    "start_time": "2021-06-19T01:35:17.285Z"
   },
   {
    "duration": 7,
    "start_time": "2021-06-19T01:35:17.292Z"
   },
   {
    "duration": 7,
    "start_time": "2021-06-19T01:35:17.301Z"
   },
   {
    "duration": 7,
    "start_time": "2021-06-19T01:35:17.309Z"
   },
   {
    "duration": 8,
    "start_time": "2021-06-19T01:35:17.317Z"
   },
   {
    "duration": 6,
    "start_time": "2021-06-19T01:35:17.327Z"
   },
   {
    "duration": 11,
    "start_time": "2021-06-19T01:35:17.335Z"
   },
   {
    "duration": 41,
    "start_time": "2021-06-19T01:35:17.348Z"
   },
   {
    "duration": 7,
    "start_time": "2021-06-19T01:35:17.391Z"
   },
   {
    "duration": 7,
    "start_time": "2021-06-19T01:35:17.400Z"
   },
   {
    "duration": 13,
    "start_time": "2021-06-19T01:35:17.408Z"
   },
   {
    "duration": 7,
    "start_time": "2021-06-19T01:35:17.422Z"
   },
   {
    "duration": 9,
    "start_time": "2021-06-19T01:35:17.431Z"
   },
   {
    "duration": 5,
    "start_time": "2021-06-19T01:35:17.485Z"
   },
   {
    "duration": 14,
    "start_time": "2021-06-19T01:35:17.491Z"
   },
   {
    "duration": 5,
    "start_time": "2021-06-19T01:35:17.507Z"
   },
   {
    "duration": 10,
    "start_time": "2021-06-19T01:35:17.515Z"
   },
   {
    "duration": 8,
    "start_time": "2021-06-19T01:35:17.527Z"
   },
   {
    "duration": 9,
    "start_time": "2021-06-19T01:35:17.536Z"
   },
   {
    "duration": 258,
    "start_time": "2021-06-19T01:35:17.547Z"
   },
   {
    "duration": 248,
    "start_time": "2021-06-19T01:35:17.807Z"
   },
   {
    "duration": 8,
    "start_time": "2021-06-19T01:35:18.057Z"
   },
   {
    "duration": 8,
    "start_time": "2021-06-19T01:36:54.987Z"
   },
   {
    "duration": 251,
    "start_time": "2021-06-19T01:37:14.398Z"
   },
   {
    "duration": 4,
    "start_time": "2021-06-19T01:37:46.807Z"
   },
   {
    "duration": 9,
    "start_time": "2021-06-19T01:37:51.895Z"
   },
   {
    "duration": 214,
    "start_time": "2021-06-19T01:39:26.611Z"
   },
   {
    "duration": 9,
    "start_time": "2021-06-19T01:39:44.446Z"
   },
   {
    "duration": 4,
    "start_time": "2021-06-19T01:40:02.236Z"
   },
   {
    "duration": 4,
    "start_time": "2021-06-19T01:40:07.477Z"
   },
   {
    "duration": 8,
    "start_time": "2021-06-19T01:41:07.951Z"
   },
   {
    "duration": 4,
    "start_time": "2021-06-19T01:41:08.606Z"
   },
   {
    "duration": 4,
    "start_time": "2021-06-19T01:41:09.223Z"
   },
   {
    "duration": 7,
    "start_time": "2021-06-19T01:41:28.176Z"
   },
   {
    "duration": 6,
    "start_time": "2021-06-19T01:41:56.466Z"
   },
   {
    "duration": 6,
    "start_time": "2021-06-19T01:43:30.006Z"
   },
   {
    "duration": 6,
    "start_time": "2021-06-19T01:43:54.669Z"
   },
   {
    "duration": 4,
    "start_time": "2021-06-19T01:44:00.741Z"
   },
   {
    "duration": 6,
    "start_time": "2021-06-19T01:44:14.535Z"
   },
   {
    "duration": 1005,
    "start_time": "2021-06-19T01:44:30.567Z"
   },
   {
    "duration": 57,
    "start_time": "2021-06-19T01:44:31.574Z"
   },
   {
    "duration": 20,
    "start_time": "2021-06-19T01:44:31.633Z"
   },
   {
    "duration": 35,
    "start_time": "2021-06-19T01:44:31.655Z"
   },
   {
    "duration": 35,
    "start_time": "2021-06-19T01:44:31.691Z"
   },
   {
    "duration": 10,
    "start_time": "2021-06-19T01:44:31.728Z"
   },
   {
    "duration": 32,
    "start_time": "2021-06-19T01:44:31.740Z"
   },
   {
    "duration": 27,
    "start_time": "2021-06-19T01:44:31.774Z"
   },
   {
    "duration": 9,
    "start_time": "2021-06-19T01:44:31.803Z"
   },
   {
    "duration": 26,
    "start_time": "2021-06-19T01:44:31.813Z"
   },
   {
    "duration": 7,
    "start_time": "2021-06-19T01:44:31.840Z"
   },
   {
    "duration": 14,
    "start_time": "2021-06-19T01:44:31.849Z"
   },
   {
    "duration": 17,
    "start_time": "2021-06-19T01:44:31.865Z"
   },
   {
    "duration": 7,
    "start_time": "2021-06-19T01:44:31.884Z"
   },
   {
    "duration": 16,
    "start_time": "2021-06-19T01:44:31.892Z"
   },
   {
    "duration": 15,
    "start_time": "2021-06-19T01:44:31.909Z"
   },
   {
    "duration": 24,
    "start_time": "2021-06-19T01:44:31.925Z"
   },
   {
    "duration": 34,
    "start_time": "2021-06-19T01:44:31.951Z"
   },
   {
    "duration": 8,
    "start_time": "2021-06-19T01:44:31.987Z"
   },
   {
    "duration": 18,
    "start_time": "2021-06-19T01:44:31.996Z"
   },
   {
    "duration": 16,
    "start_time": "2021-06-19T01:44:32.016Z"
   },
   {
    "duration": 14,
    "start_time": "2021-06-19T01:44:32.033Z"
   },
   {
    "duration": 16,
    "start_time": "2021-06-19T01:44:32.049Z"
   },
   {
    "duration": 18,
    "start_time": "2021-06-19T01:44:32.068Z"
   },
   {
    "duration": 26,
    "start_time": "2021-06-19T01:44:32.088Z"
   },
   {
    "duration": 224,
    "start_time": "2021-06-19T01:44:32.116Z"
   },
   {
    "duration": 240,
    "start_time": "2021-06-19T01:44:32.342Z"
   },
   {
    "duration": 8,
    "start_time": "2021-06-19T01:44:32.585Z"
   },
   {
    "duration": 10,
    "start_time": "2021-06-19T01:44:32.595Z"
   },
   {
    "duration": 20,
    "start_time": "2021-06-19T01:44:32.607Z"
   },
   {
    "duration": 18,
    "start_time": "2021-06-19T01:44:32.628Z"
   },
   {
    "duration": 6,
    "start_time": "2021-06-19T01:44:32.648Z"
   },
   {
    "duration": 7,
    "start_time": "2021-06-19T01:44:50.811Z"
   },
   {
    "duration": 4,
    "start_time": "2021-06-19T01:44:51.734Z"
   },
   {
    "duration": 5,
    "start_time": "2021-06-19T01:44:58.575Z"
   },
   {
    "duration": 4,
    "start_time": "2021-06-19T01:45:07.537Z"
   },
   {
    "duration": 4,
    "start_time": "2021-06-19T01:48:49.717Z"
   },
   {
    "duration": 5,
    "start_time": "2021-06-19T01:49:43.753Z"
   },
   {
    "duration": 6,
    "start_time": "2021-06-19T01:49:53.182Z"
   },
   {
    "duration": 171,
    "start_time": "2021-06-19T01:52:27.219Z"
   },
   {
    "duration": 173,
    "start_time": "2021-06-19T01:52:39.868Z"
   },
   {
    "duration": 186,
    "start_time": "2021-06-19T01:52:44.741Z"
   },
   {
    "duration": 209,
    "start_time": "2021-06-19T01:52:50.795Z"
   },
   {
    "duration": 202,
    "start_time": "2021-06-19T01:53:14.153Z"
   },
   {
    "duration": 61,
    "start_time": "2021-06-19T01:54:12.867Z"
   },
   {
    "duration": 217,
    "start_time": "2021-06-19T01:54:16.670Z"
   },
   {
    "duration": 231,
    "start_time": "2021-06-19T01:54:59.080Z"
   },
   {
    "duration": 286,
    "start_time": "2021-06-19T01:55:05.789Z"
   },
   {
    "duration": 225,
    "start_time": "2021-06-19T01:55:22.986Z"
   },
   {
    "duration": 224,
    "start_time": "2021-06-19T01:55:38.743Z"
   },
   {
    "duration": 4,
    "start_time": "2021-06-19T01:56:51.506Z"
   },
   {
    "duration": 970,
    "start_time": "2021-06-19T02:01:28.986Z"
   },
   {
    "duration": 56,
    "start_time": "2021-06-19T02:01:29.957Z"
   },
   {
    "duration": 15,
    "start_time": "2021-06-19T02:01:30.015Z"
   },
   {
    "duration": 14,
    "start_time": "2021-06-19T02:01:30.032Z"
   },
   {
    "duration": 13,
    "start_time": "2021-06-19T02:01:30.048Z"
   },
   {
    "duration": 9,
    "start_time": "2021-06-19T02:01:30.063Z"
   },
   {
    "duration": 6,
    "start_time": "2021-06-19T02:01:30.085Z"
   },
   {
    "duration": 17,
    "start_time": "2021-06-19T02:01:30.093Z"
   },
   {
    "duration": 5,
    "start_time": "2021-06-19T02:01:30.113Z"
   },
   {
    "duration": 20,
    "start_time": "2021-06-19T02:01:30.120Z"
   },
   {
    "duration": 15,
    "start_time": "2021-06-19T02:01:30.142Z"
   },
   {
    "duration": 16,
    "start_time": "2021-06-19T02:01:30.159Z"
   },
   {
    "duration": 15,
    "start_time": "2021-06-19T02:01:30.177Z"
   },
   {
    "duration": 13,
    "start_time": "2021-06-19T02:01:30.193Z"
   },
   {
    "duration": 19,
    "start_time": "2021-06-19T02:01:30.208Z"
   },
   {
    "duration": 16,
    "start_time": "2021-06-19T02:01:30.228Z"
   },
   {
    "duration": 25,
    "start_time": "2021-06-19T02:01:30.245Z"
   },
   {
    "duration": 10,
    "start_time": "2021-06-19T02:01:30.272Z"
   },
   {
    "duration": 13,
    "start_time": "2021-06-19T02:01:30.285Z"
   },
   {
    "duration": 13,
    "start_time": "2021-06-19T02:01:30.300Z"
   },
   {
    "duration": 16,
    "start_time": "2021-06-19T02:01:30.314Z"
   },
   {
    "duration": 19,
    "start_time": "2021-06-19T02:01:30.332Z"
   },
   {
    "duration": 11,
    "start_time": "2021-06-19T02:01:30.354Z"
   },
   {
    "duration": 23,
    "start_time": "2021-06-19T02:01:30.367Z"
   },
   {
    "duration": 22,
    "start_time": "2021-06-19T02:01:30.391Z"
   },
   {
    "duration": 223,
    "start_time": "2021-06-19T02:01:30.415Z"
   },
   {
    "duration": 240,
    "start_time": "2021-06-19T02:01:30.641Z"
   },
   {
    "duration": 10,
    "start_time": "2021-06-19T02:01:30.885Z"
   },
   {
    "duration": 12,
    "start_time": "2021-06-19T02:01:30.896Z"
   },
   {
    "duration": 14,
    "start_time": "2021-06-19T02:01:30.910Z"
   },
   {
    "duration": 11,
    "start_time": "2021-06-19T02:01:30.925Z"
   },
   {
    "duration": 251,
    "start_time": "2021-06-19T02:01:30.937Z"
   },
   {
    "duration": 221,
    "start_time": "2021-06-19T02:01:31.190Z"
   },
   {
    "duration": 4,
    "start_time": "2021-06-19T02:01:31.413Z"
   },
   {
    "duration": 202,
    "start_time": "2021-06-19T02:12:22.416Z"
   },
   {
    "duration": 7,
    "start_time": "2021-06-19T02:15:25.398Z"
   },
   {
    "duration": 1287,
    "start_time": "2021-06-19T02:15:39.423Z"
   },
   {
    "duration": 1342,
    "start_time": "2021-06-19T02:15:51.793Z"
   },
   {
    "duration": 7,
    "start_time": "2021-06-19T02:20:36.866Z"
   },
   {
    "duration": 5,
    "start_time": "2021-06-19T02:23:05.559Z"
   },
   {
    "duration": 4,
    "start_time": "2021-06-19T02:23:39.425Z"
   },
   {
    "duration": 5,
    "start_time": "2021-06-19T02:27:32.076Z"
   },
   {
    "duration": 4,
    "start_time": "2021-06-19T02:27:43.849Z"
   },
   {
    "duration": 4,
    "start_time": "2021-06-19T02:27:52.083Z"
   },
   {
    "duration": 4,
    "start_time": "2021-06-19T02:28:01.518Z"
   },
   {
    "duration": 4,
    "start_time": "2021-06-19T02:28:18.012Z"
   },
   {
    "duration": 4,
    "start_time": "2021-06-19T02:30:58.933Z"
   },
   {
    "duration": 8,
    "start_time": "2021-06-19T02:31:10.030Z"
   },
   {
    "duration": 5,
    "start_time": "2021-06-19T02:31:21.331Z"
   },
   {
    "duration": 62,
    "start_time": "2021-06-19T02:42:43.152Z"
   },
   {
    "duration": 68,
    "start_time": "2021-06-19T02:44:33.068Z"
   },
   {
    "duration": 908,
    "start_time": "2021-06-19T02:45:18.544Z"
   },
   {
    "duration": 56,
    "start_time": "2021-06-19T02:45:19.454Z"
   },
   {
    "duration": 14,
    "start_time": "2021-06-19T02:45:19.513Z"
   },
   {
    "duration": 16,
    "start_time": "2021-06-19T02:45:19.529Z"
   },
   {
    "duration": 15,
    "start_time": "2021-06-19T02:45:19.547Z"
   },
   {
    "duration": 23,
    "start_time": "2021-06-19T02:45:19.563Z"
   },
   {
    "duration": 7,
    "start_time": "2021-06-19T02:45:19.587Z"
   },
   {
    "duration": 6,
    "start_time": "2021-06-19T02:45:19.597Z"
   },
   {
    "duration": 4,
    "start_time": "2021-06-19T02:45:19.605Z"
   },
   {
    "duration": 7,
    "start_time": "2021-06-19T02:45:19.610Z"
   },
   {
    "duration": 10,
    "start_time": "2021-06-19T02:45:19.618Z"
   },
   {
    "duration": 5,
    "start_time": "2021-06-19T02:45:19.630Z"
   },
   {
    "duration": 53,
    "start_time": "2021-06-19T02:45:19.636Z"
   },
   {
    "duration": 4,
    "start_time": "2021-06-19T02:45:19.690Z"
   },
   {
    "duration": 5,
    "start_time": "2021-06-19T02:45:19.696Z"
   },
   {
    "duration": 6,
    "start_time": "2021-06-19T02:45:19.703Z"
   },
   {
    "duration": 11,
    "start_time": "2021-06-19T02:45:19.710Z"
   },
   {
    "duration": 6,
    "start_time": "2021-06-19T02:45:19.723Z"
   },
   {
    "duration": 7,
    "start_time": "2021-06-19T02:45:19.731Z"
   },
   {
    "duration": 45,
    "start_time": "2021-06-19T02:45:19.740Z"
   },
   {
    "duration": 11,
    "start_time": "2021-06-19T02:45:19.787Z"
   },
   {
    "duration": 5,
    "start_time": "2021-06-19T02:45:19.800Z"
   },
   {
    "duration": 6,
    "start_time": "2021-06-19T02:45:19.808Z"
   },
   {
    "duration": 7,
    "start_time": "2021-06-19T02:45:19.816Z"
   },
   {
    "duration": 8,
    "start_time": "2021-06-19T02:45:19.824Z"
   },
   {
    "duration": 258,
    "start_time": "2021-06-19T02:45:19.834Z"
   },
   {
    "duration": 4,
    "start_time": "2021-06-19T02:45:20.093Z"
   },
   {
    "duration": 1377,
    "start_time": "2021-06-19T02:45:20.098Z"
   },
   {
    "duration": 10,
    "start_time": "2021-06-19T02:45:21.476Z"
   },
   {
    "duration": 11,
    "start_time": "2021-06-19T02:45:21.487Z"
   },
   {
    "duration": 6,
    "start_time": "2021-06-19T02:45:21.500Z"
   },
   {
    "duration": 9,
    "start_time": "2021-06-19T02:45:21.507Z"
   },
   {
    "duration": 5,
    "start_time": "2021-06-19T02:45:21.517Z"
   },
   {
    "duration": 249,
    "start_time": "2021-06-19T02:45:21.523Z"
   },
   {
    "duration": 223,
    "start_time": "2021-06-19T02:45:21.773Z"
   },
   {
    "duration": 5,
    "start_time": "2021-06-19T02:45:21.997Z"
   },
   {
    "duration": 1003,
    "start_time": "2021-06-19T02:48:30.193Z"
   },
   {
    "duration": 57,
    "start_time": "2021-06-19T02:48:31.198Z"
   },
   {
    "duration": 18,
    "start_time": "2021-06-19T02:48:31.257Z"
   },
   {
    "duration": 17,
    "start_time": "2021-06-19T02:48:31.277Z"
   },
   {
    "duration": 15,
    "start_time": "2021-06-19T02:48:31.296Z"
   },
   {
    "duration": 8,
    "start_time": "2021-06-19T02:48:31.312Z"
   },
   {
    "duration": 7,
    "start_time": "2021-06-19T02:48:31.322Z"
   },
   {
    "duration": 7,
    "start_time": "2021-06-19T02:48:31.332Z"
   },
   {
    "duration": 47,
    "start_time": "2021-06-19T02:48:31.341Z"
   },
   {
    "duration": 7,
    "start_time": "2021-06-19T02:48:31.390Z"
   },
   {
    "duration": 11,
    "start_time": "2021-06-19T02:48:31.399Z"
   },
   {
    "duration": 10,
    "start_time": "2021-06-19T02:48:31.412Z"
   },
   {
    "duration": 17,
    "start_time": "2021-06-19T02:48:31.423Z"
   },
   {
    "duration": 7,
    "start_time": "2021-06-19T02:48:31.442Z"
   },
   {
    "duration": 8,
    "start_time": "2021-06-19T02:48:31.450Z"
   },
   {
    "duration": 5,
    "start_time": "2021-06-19T02:48:31.485Z"
   },
   {
    "duration": 20,
    "start_time": "2021-06-19T02:48:31.492Z"
   },
   {
    "duration": 6,
    "start_time": "2021-06-19T02:48:31.514Z"
   },
   {
    "duration": 8,
    "start_time": "2021-06-19T02:48:31.522Z"
   },
   {
    "duration": 11,
    "start_time": "2021-06-19T02:48:31.532Z"
   },
   {
    "duration": 14,
    "start_time": "2021-06-19T02:48:31.545Z"
   },
   {
    "duration": 27,
    "start_time": "2021-06-19T02:48:31.560Z"
   },
   {
    "duration": 8,
    "start_time": "2021-06-19T02:48:31.590Z"
   },
   {
    "duration": 7,
    "start_time": "2021-06-19T02:48:31.600Z"
   },
   {
    "duration": 8,
    "start_time": "2021-06-19T02:48:31.609Z"
   },
   {
    "duration": 231,
    "start_time": "2021-06-19T02:48:31.619Z"
   },
   {
    "duration": 3,
    "start_time": "2021-06-19T02:48:31.852Z"
   },
   {
    "duration": 1373,
    "start_time": "2021-06-19T02:48:31.857Z"
   },
   {
    "duration": 4,
    "start_time": "2021-06-19T02:48:33.231Z"
   },
   {
    "duration": 10,
    "start_time": "2021-06-19T02:48:33.237Z"
   },
   {
    "duration": 15,
    "start_time": "2021-06-19T02:48:33.248Z"
   },
   {
    "duration": 26,
    "start_time": "2021-06-19T02:48:33.264Z"
   },
   {
    "duration": 5,
    "start_time": "2021-06-19T02:48:33.291Z"
   },
   {
    "duration": 239,
    "start_time": "2021-06-19T02:48:33.298Z"
   },
   {
    "duration": 214,
    "start_time": "2021-06-19T02:48:33.539Z"
   },
   {
    "duration": 4,
    "start_time": "2021-06-19T02:48:33.754Z"
   },
   {
    "duration": 915,
    "start_time": "2021-06-19T04:03:35.544Z"
   },
   {
    "duration": 54,
    "start_time": "2021-06-19T04:03:36.461Z"
   },
   {
    "duration": 15,
    "start_time": "2021-06-19T04:03:36.517Z"
   },
   {
    "duration": 13,
    "start_time": "2021-06-19T04:03:36.534Z"
   },
   {
    "duration": 12,
    "start_time": "2021-06-19T04:03:36.549Z"
   },
   {
    "duration": 8,
    "start_time": "2021-06-19T04:03:36.563Z"
   },
   {
    "duration": 9,
    "start_time": "2021-06-19T04:03:36.572Z"
   },
   {
    "duration": 6,
    "start_time": "2021-06-19T04:03:36.583Z"
   },
   {
    "duration": 4,
    "start_time": "2021-06-19T04:03:36.593Z"
   },
   {
    "duration": 6,
    "start_time": "2021-06-19T04:03:36.599Z"
   },
   {
    "duration": 5,
    "start_time": "2021-06-19T04:03:36.607Z"
   },
   {
    "duration": 5,
    "start_time": "2021-06-19T04:03:36.614Z"
   },
   {
    "duration": 9,
    "start_time": "2021-06-19T04:03:36.620Z"
   },
   {
    "duration": 4,
    "start_time": "2021-06-19T04:03:36.630Z"
   },
   {
    "duration": 6,
    "start_time": "2021-06-19T04:03:36.636Z"
   },
   {
    "duration": 5,
    "start_time": "2021-06-19T04:03:36.685Z"
   },
   {
    "duration": 11,
    "start_time": "2021-06-19T04:03:36.692Z"
   },
   {
    "duration": 7,
    "start_time": "2021-06-19T04:03:36.704Z"
   },
   {
    "duration": 8,
    "start_time": "2021-06-19T04:03:36.713Z"
   },
   {
    "duration": 3,
    "start_time": "2021-06-19T04:03:36.722Z"
   },
   {
    "duration": 16,
    "start_time": "2021-06-19T04:03:36.727Z"
   },
   {
    "duration": 6,
    "start_time": "2021-06-19T04:03:36.744Z"
   },
   {
    "duration": 38,
    "start_time": "2021-06-19T04:03:36.751Z"
   },
   {
    "duration": 7,
    "start_time": "2021-06-19T04:03:36.791Z"
   },
   {
    "duration": 7,
    "start_time": "2021-06-19T04:03:36.800Z"
   },
   {
    "duration": 234,
    "start_time": "2021-06-19T04:03:36.809Z"
   },
   {
    "duration": 4,
    "start_time": "2021-06-19T04:03:37.046Z"
   },
   {
    "duration": 1357,
    "start_time": "2021-06-19T04:03:37.052Z"
   },
   {
    "duration": 4,
    "start_time": "2021-06-19T04:03:38.410Z"
   },
   {
    "duration": 11,
    "start_time": "2021-06-19T04:03:38.416Z"
   },
   {
    "duration": 7,
    "start_time": "2021-06-19T04:03:38.428Z"
   },
   {
    "duration": 9,
    "start_time": "2021-06-19T04:03:38.437Z"
   },
   {
    "duration": 4,
    "start_time": "2021-06-19T04:03:38.447Z"
   },
   {
    "duration": 250,
    "start_time": "2021-06-19T04:03:38.453Z"
   },
   {
    "duration": 252,
    "start_time": "2021-06-19T04:03:38.704Z"
   },
   {
    "duration": 5,
    "start_time": "2021-06-19T04:03:38.958Z"
   },
   {
    "duration": 356,
    "start_time": "2021-06-19T10:01:00.978Z"
   },
   {
    "duration": 119,
    "start_time": "2021-06-19T10:01:06.133Z"
   },
   {
    "duration": 325,
    "start_time": "2021-06-19T10:01:08.642Z"
   },
   {
    "duration": 308,
    "start_time": "2021-06-19T10:01:12.314Z"
   },
   {
    "duration": 1422,
    "start_time": "2021-06-19T10:01:19.646Z"
   },
   {
    "duration": 92,
    "start_time": "2021-06-19T10:01:21.071Z"
   },
   {
    "duration": 21,
    "start_time": "2021-06-19T10:01:21.166Z"
   },
   {
    "duration": 103,
    "start_time": "2021-06-19T10:01:21.190Z"
   },
   {
    "duration": 154,
    "start_time": "2021-06-19T10:01:21.295Z"
   },
   {
    "duration": 25,
    "start_time": "2021-06-19T10:01:21.451Z"
   },
   {
    "duration": 21,
    "start_time": "2021-06-19T10:01:21.478Z"
   },
   {
    "duration": 23,
    "start_time": "2021-06-19T10:01:21.503Z"
   },
   {
    "duration": 20,
    "start_time": "2021-06-19T10:01:21.528Z"
   },
   {
    "duration": 29,
    "start_time": "2021-06-19T10:01:21.550Z"
   },
   {
    "duration": 180,
    "start_time": "2021-06-19T10:01:21.581Z"
   },
   {
    "duration": 23,
    "start_time": "2021-06-19T10:01:21.763Z"
   },
   {
    "duration": 25,
    "start_time": "2021-06-19T10:01:21.788Z"
   },
   {
    "duration": 23,
    "start_time": "2021-06-19T10:01:21.815Z"
   },
   {
    "duration": 29,
    "start_time": "2021-06-19T10:01:21.840Z"
   },
   {
    "duration": 38,
    "start_time": "2021-06-19T10:01:21.872Z"
   },
   {
    "duration": 28,
    "start_time": "2021-06-19T10:01:21.912Z"
   },
   {
    "duration": 129,
    "start_time": "2021-06-19T10:01:21.942Z"
   },
   {
    "duration": 103,
    "start_time": "2021-06-19T10:01:22.073Z"
   },
   {
    "duration": 12,
    "start_time": "2021-06-19T10:01:22.178Z"
   },
   {
    "duration": 17,
    "start_time": "2021-06-19T10:01:22.193Z"
   },
   {
    "duration": 10,
    "start_time": "2021-06-19T10:01:22.213Z"
   },
   {
    "duration": 33,
    "start_time": "2021-06-19T10:01:22.230Z"
   },
   {
    "duration": 16,
    "start_time": "2021-06-19T10:01:22.267Z"
   },
   {
    "duration": 14,
    "start_time": "2021-06-19T10:01:22.286Z"
   },
   {
    "duration": 547,
    "start_time": "2021-06-19T10:01:22.303Z"
   },
   {
    "duration": 8852,
    "start_time": "2021-06-19T10:01:22.853Z"
   },
   {
    "duration": -197,
    "start_time": "2021-06-19T10:01:31.905Z"
   },
   {
    "duration": -196,
    "start_time": "2021-06-19T10:01:31.906Z"
   },
   {
    "duration": -203,
    "start_time": "2021-06-19T10:01:31.916Z"
   },
   {
    "duration": -207,
    "start_time": "2021-06-19T10:01:31.921Z"
   },
   {
    "duration": -208,
    "start_time": "2021-06-19T10:01:31.924Z"
   },
   {
    "duration": -214,
    "start_time": "2021-06-19T10:01:31.933Z"
   },
   {
    "duration": -218,
    "start_time": "2021-06-19T10:01:31.939Z"
   },
   {
    "duration": -223,
    "start_time": "2021-06-19T10:01:31.946Z"
   },
   {
    "duration": -223,
    "start_time": "2021-06-19T10:01:31.948Z"
   },
   {
    "duration": -224,
    "start_time": "2021-06-19T10:01:31.951Z"
   },
   {
    "duration": 9,
    "start_time": "2021-06-19T10:01:34.385Z"
   },
   {
    "duration": 7,
    "start_time": "2021-06-19T10:01:43.744Z"
   },
   {
    "duration": 7,
    "start_time": "2021-06-19T10:01:48.288Z"
   },
   {
    "duration": 8,
    "start_time": "2021-06-19T10:02:02.624Z"
   },
   {
    "duration": 8,
    "start_time": "2021-06-19T10:02:11.631Z"
   },
   {
    "duration": 3086,
    "start_time": "2021-06-19T10:02:13.212Z"
   },
   {
    "duration": 8,
    "start_time": "2021-06-19T10:02:16.301Z"
   },
   {
    "duration": 8,
    "start_time": "2021-06-19T10:02:19.952Z"
   },
   {
    "duration": 3111,
    "start_time": "2021-06-19T10:03:41.771Z"
   },
   {
    "duration": 8,
    "start_time": "2021-06-19T10:03:44.886Z"
   },
   {
    "duration": 3086,
    "start_time": "2021-06-19T10:06:49.415Z"
   },
   {
    "duration": 19,
    "start_time": "2021-06-19T10:08:04.475Z"
   },
   {
    "duration": 11,
    "start_time": "2021-06-19T10:08:04.842Z"
   },
   {
    "duration": 19,
    "start_time": "2021-06-19T10:08:05.546Z"
   },
   {
    "duration": 11,
    "start_time": "2021-06-19T10:08:06.131Z"
   },
   {
    "duration": 378,
    "start_time": "2021-06-19T10:08:06.609Z"
   },
   {
    "duration": 357,
    "start_time": "2021-06-19T10:08:07.076Z"
   },
   {
    "duration": 7,
    "start_time": "2021-06-19T10:08:08.753Z"
   },
   {
    "duration": 1347,
    "start_time": "2021-06-24T22:55:09.006Z"
   },
   {
    "duration": 86,
    "start_time": "2021-06-24T22:55:10.356Z"
   },
   {
    "duration": 22,
    "start_time": "2021-06-24T22:55:10.445Z"
   },
   {
    "duration": 21,
    "start_time": "2021-06-24T22:55:10.470Z"
   },
   {
    "duration": 23,
    "start_time": "2021-06-24T22:55:10.493Z"
   },
   {
    "duration": 12,
    "start_time": "2021-06-24T22:55:10.518Z"
   },
   {
    "duration": 10,
    "start_time": "2021-06-24T22:55:10.532Z"
   },
   {
    "duration": 12,
    "start_time": "2021-06-24T22:55:10.544Z"
   },
   {
    "duration": 43,
    "start_time": "2021-06-24T22:55:10.559Z"
   },
   {
    "duration": 7,
    "start_time": "2021-06-24T22:55:10.605Z"
   },
   {
    "duration": 11,
    "start_time": "2021-06-24T22:55:10.614Z"
   },
   {
    "duration": 12,
    "start_time": "2021-06-24T22:55:10.627Z"
   },
   {
    "duration": 14,
    "start_time": "2021-06-24T22:55:10.642Z"
   },
   {
    "duration": 48,
    "start_time": "2021-06-24T22:55:10.658Z"
   },
   {
    "duration": 8,
    "start_time": "2021-06-24T22:55:10.708Z"
   },
   {
    "duration": 9,
    "start_time": "2021-06-24T22:55:10.720Z"
   },
   {
    "duration": 19,
    "start_time": "2021-06-24T22:55:10.731Z"
   },
   {
    "duration": 52,
    "start_time": "2021-06-24T22:55:10.752Z"
   },
   {
    "duration": 14,
    "start_time": "2021-06-24T22:55:10.806Z"
   },
   {
    "duration": 6,
    "start_time": "2021-06-24T22:55:10.823Z"
   },
   {
    "duration": 13,
    "start_time": "2021-06-24T22:55:10.832Z"
   },
   {
    "duration": 9,
    "start_time": "2021-06-24T22:55:10.848Z"
   },
   {
    "duration": 49,
    "start_time": "2021-06-24T22:55:10.860Z"
   },
   {
    "duration": 12,
    "start_time": "2021-06-24T22:55:10.911Z"
   },
   {
    "duration": 13,
    "start_time": "2021-06-24T22:55:10.926Z"
   },
   {
    "duration": 378,
    "start_time": "2021-06-24T22:55:10.942Z"
   },
   {
    "duration": 6,
    "start_time": "2021-06-24T22:55:11.325Z"
   },
   {
    "duration": 2159,
    "start_time": "2021-06-24T22:55:11.334Z"
   },
   {
    "duration": 5,
    "start_time": "2021-06-24T22:55:13.501Z"
   },
   {
    "duration": 15,
    "start_time": "2021-06-24T22:55:13.509Z"
   },
   {
    "duration": 11,
    "start_time": "2021-06-24T22:55:13.526Z"
   },
   {
    "duration": 16,
    "start_time": "2021-06-24T22:55:13.540Z"
   },
   {
    "duration": 8,
    "start_time": "2021-06-24T22:55:13.558Z"
   },
   {
    "duration": 369,
    "start_time": "2021-06-24T22:55:13.601Z"
   },
   {
    "duration": 352,
    "start_time": "2021-06-24T22:55:13.973Z"
   },
   {
    "duration": 7,
    "start_time": "2021-06-24T22:55:14.327Z"
   },
   {
    "duration": 12,
    "start_time": "2021-06-24T22:55:19.332Z"
   },
   {
    "duration": 11,
    "start_time": "2021-06-24T22:55:25.678Z"
   },
   {
    "duration": 9,
    "start_time": "2021-06-24T22:56:09.427Z"
   },
   {
    "duration": 12,
    "start_time": "2021-06-24T22:56:13.133Z"
   },
   {
    "duration": 398,
    "start_time": "2021-06-24T22:56:55.584Z"
   },
   {
    "duration": 13,
    "start_time": "2021-06-24T22:57:01.326Z"
   },
   {
    "duration": 10,
    "start_time": "2021-06-24T22:57:21.424Z"
   },
   {
    "duration": 12,
    "start_time": "2021-06-24T22:57:25.261Z"
   },
   {
    "duration": 11,
    "start_time": "2021-06-24T22:58:12.072Z"
   },
   {
    "duration": 11,
    "start_time": "2021-06-24T22:58:18.441Z"
   },
   {
    "duration": 118,
    "start_time": "2021-06-24T22:59:02.716Z"
   },
   {
    "duration": 8,
    "start_time": "2021-06-24T22:59:24.723Z"
   },
   {
    "duration": 7,
    "start_time": "2021-06-24T22:59:34.927Z"
   },
   {
    "duration": 7,
    "start_time": "2021-06-24T23:05:35.913Z"
   },
   {
    "duration": 7,
    "start_time": "2021-06-24T23:17:24.887Z"
   },
   {
    "duration": 7,
    "start_time": "2021-06-24T23:17:27.544Z"
   },
   {
    "duration": 9,
    "start_time": "2021-06-24T23:19:16.983Z"
   },
   {
    "duration": 9,
    "start_time": "2021-06-24T23:19:21.966Z"
   },
   {
    "duration": 10,
    "start_time": "2021-06-24T23:19:25.808Z"
   },
   {
    "duration": 11,
    "start_time": "2021-06-24T23:19:32.462Z"
   },
   {
    "duration": 532,
    "start_time": "2021-06-24T23:19:58.626Z"
   },
   {
    "duration": 350,
    "start_time": "2021-06-24T23:24:27.453Z"
   },
   {
    "duration": 342,
    "start_time": "2021-06-24T23:24:38.085Z"
   },
   {
    "duration": 336,
    "start_time": "2021-06-24T23:24:41.291Z"
   },
   {
    "duration": 420,
    "start_time": "2021-06-24T23:24:45.647Z"
   },
   {
    "duration": 333,
    "start_time": "2021-06-24T23:24:50.291Z"
   },
   {
    "duration": 317,
    "start_time": "2021-06-24T23:24:54.777Z"
   },
   {
    "duration": 342,
    "start_time": "2021-06-24T23:25:01.431Z"
   },
   {
    "duration": 1244,
    "start_time": "2021-06-25T00:31:42.028Z"
   },
   {
    "duration": 72,
    "start_time": "2021-06-25T00:31:43.275Z"
   },
   {
    "duration": 23,
    "start_time": "2021-06-25T00:31:43.350Z"
   },
   {
    "duration": 21,
    "start_time": "2021-06-25T00:31:43.377Z"
   },
   {
    "duration": 22,
    "start_time": "2021-06-25T00:31:43.401Z"
   },
   {
    "duration": 12,
    "start_time": "2021-06-25T00:31:43.426Z"
   },
   {
    "duration": 15,
    "start_time": "2021-06-25T00:31:43.441Z"
   },
   {
    "duration": 9,
    "start_time": "2021-06-25T00:31:43.501Z"
   },
   {
    "duration": 7,
    "start_time": "2021-06-25T00:31:43.515Z"
   },
   {
    "duration": 9,
    "start_time": "2021-06-25T00:31:43.524Z"
   },
   {
    "duration": 13,
    "start_time": "2021-06-25T00:31:43.535Z"
   },
   {
    "duration": 6,
    "start_time": "2021-06-25T00:31:43.550Z"
   },
   {
    "duration": 11,
    "start_time": "2021-06-25T00:31:43.601Z"
   },
   {
    "duration": 10,
    "start_time": "2021-06-25T00:31:43.615Z"
   },
   {
    "duration": 9,
    "start_time": "2021-06-25T00:31:43.628Z"
   },
   {
    "duration": 9,
    "start_time": "2021-06-25T00:31:43.639Z"
   },
   {
    "duration": 51,
    "start_time": "2021-06-25T00:31:43.651Z"
   },
   {
    "duration": 11,
    "start_time": "2021-06-25T00:31:43.704Z"
   },
   {
    "duration": 12,
    "start_time": "2021-06-25T00:31:43.717Z"
   },
   {
    "duration": 5,
    "start_time": "2021-06-25T00:31:43.731Z"
   },
   {
    "duration": 14,
    "start_time": "2021-06-25T00:31:43.738Z"
   },
   {
    "duration": 54,
    "start_time": "2021-06-25T00:31:43.755Z"
   },
   {
    "duration": 9,
    "start_time": "2021-06-25T00:31:43.815Z"
   },
   {
    "duration": 10,
    "start_time": "2021-06-25T00:31:43.827Z"
   },
   {
    "duration": 11,
    "start_time": "2021-06-25T00:31:43.840Z"
   },
   {
    "duration": 373,
    "start_time": "2021-06-25T00:31:43.853Z"
   },
   {
    "duration": 7,
    "start_time": "2021-06-25T00:31:44.228Z"
   },
   {
    "duration": 10,
    "start_time": "2021-06-25T00:31:44.238Z"
   },
   {
    "duration": 542,
    "start_time": "2021-06-25T00:31:44.251Z"
   },
   {
    "duration": 6,
    "start_time": "2021-06-25T00:31:44.800Z"
   },
   {
    "duration": 17,
    "start_time": "2021-06-25T00:31:44.809Z"
   },
   {
    "duration": 7,
    "start_time": "2021-06-25T00:31:44.829Z"
   },
   {
    "duration": 20,
    "start_time": "2021-06-25T00:31:44.838Z"
   },
   {
    "duration": 8,
    "start_time": "2021-06-25T00:31:44.860Z"
   },
   {
    "duration": 386,
    "start_time": "2021-06-25T00:31:44.902Z"
   },
   {
    "duration": 368,
    "start_time": "2021-06-25T00:31:45.290Z"
   },
   {
    "duration": 7,
    "start_time": "2021-06-25T00:31:45.661Z"
   },
   {
    "duration": 1664,
    "start_time": "2021-06-25T00:56:11.966Z"
   },
   {
    "duration": 71,
    "start_time": "2021-06-25T00:56:13.633Z"
   },
   {
    "duration": 21,
    "start_time": "2021-06-25T00:56:13.707Z"
   },
   {
    "duration": 19,
    "start_time": "2021-06-25T00:56:13.730Z"
   },
   {
    "duration": 48,
    "start_time": "2021-06-25T00:56:13.751Z"
   },
   {
    "duration": 11,
    "start_time": "2021-06-25T00:56:13.802Z"
   },
   {
    "duration": 9,
    "start_time": "2021-06-25T00:56:13.816Z"
   },
   {
    "duration": 9,
    "start_time": "2021-06-25T00:56:13.829Z"
   },
   {
    "duration": 7,
    "start_time": "2021-06-25T00:56:13.840Z"
   },
   {
    "duration": 57,
    "start_time": "2021-06-25T00:56:13.849Z"
   },
   {
    "duration": 7,
    "start_time": "2021-06-25T00:56:13.909Z"
   },
   {
    "duration": 7,
    "start_time": "2021-06-25T00:56:13.919Z"
   },
   {
    "duration": 13,
    "start_time": "2021-06-25T00:56:13.928Z"
   },
   {
    "duration": 9,
    "start_time": "2021-06-25T00:56:13.943Z"
   },
   {
    "duration": 8,
    "start_time": "2021-06-25T00:56:14.001Z"
   },
   {
    "duration": 8,
    "start_time": "2021-06-25T00:56:14.011Z"
   },
   {
    "duration": 16,
    "start_time": "2021-06-25T00:56:14.022Z"
   },
   {
    "duration": 10,
    "start_time": "2021-06-25T00:56:14.041Z"
   },
   {
    "duration": 58,
    "start_time": "2021-06-25T00:56:14.053Z"
   },
   {
    "duration": 6,
    "start_time": "2021-06-25T00:56:14.113Z"
   },
   {
    "duration": 15,
    "start_time": "2021-06-25T00:56:14.121Z"
   },
   {
    "duration": 9,
    "start_time": "2021-06-25T00:56:14.138Z"
   },
   {
    "duration": 10,
    "start_time": "2021-06-25T00:56:14.152Z"
   },
   {
    "duration": 10,
    "start_time": "2021-06-25T00:56:14.201Z"
   },
   {
    "duration": 10,
    "start_time": "2021-06-25T00:56:14.213Z"
   },
   {
    "duration": 361,
    "start_time": "2021-06-25T00:56:14.225Z"
   },
   {
    "duration": 6,
    "start_time": "2021-06-25T00:56:14.600Z"
   },
   {
    "duration": 11,
    "start_time": "2021-06-25T00:56:14.609Z"
   },
   {
    "duration": 651,
    "start_time": "2021-06-25T00:56:14.622Z"
   },
   {
    "duration": 7,
    "start_time": "2021-06-25T00:56:15.276Z"
   },
   {
    "duration": 27,
    "start_time": "2021-06-25T00:56:15.286Z"
   },
   {
    "duration": 12,
    "start_time": "2021-06-25T00:56:15.315Z"
   },
   {
    "duration": 23,
    "start_time": "2021-06-25T00:56:15.330Z"
   },
   {
    "duration": 8,
    "start_time": "2021-06-25T00:56:15.355Z"
   },
   {
    "duration": 397,
    "start_time": "2021-06-25T00:56:15.365Z"
   },
   {
    "duration": 363,
    "start_time": "2021-06-25T00:56:15.764Z"
   },
   {
    "duration": 7,
    "start_time": "2021-06-25T00:56:16.129Z"
   },
   {
    "duration": 16,
    "start_time": "2021-06-25T00:56:52.613Z"
   },
   {
    "duration": 1365,
    "start_time": "2021-06-25T00:56:58.559Z"
   },
   {
    "duration": 60,
    "start_time": "2021-06-25T00:56:59.927Z"
   },
   {
    "duration": 22,
    "start_time": "2021-06-25T00:56:59.990Z"
   },
   {
    "duration": 25,
    "start_time": "2021-06-25T00:57:00.015Z"
   },
   {
    "duration": 25,
    "start_time": "2021-06-25T00:57:00.042Z"
   },
   {
    "duration": 37,
    "start_time": "2021-06-25T00:57:00.070Z"
   },
   {
    "duration": 19,
    "start_time": "2021-06-25T00:57:00.109Z"
   },
   {
    "duration": 10,
    "start_time": "2021-06-25T00:57:00.132Z"
   },
   {
    "duration": 8,
    "start_time": "2021-06-25T00:57:00.145Z"
   },
   {
    "duration": 9,
    "start_time": "2021-06-25T00:57:00.156Z"
   },
   {
    "duration": 40,
    "start_time": "2021-06-25T00:57:00.167Z"
   },
   {
    "duration": 18,
    "start_time": "2021-06-25T00:57:00.210Z"
   },
   {
    "duration": 19,
    "start_time": "2021-06-25T00:57:00.231Z"
   },
   {
    "duration": 18,
    "start_time": "2021-06-25T00:57:00.253Z"
   },
   {
    "duration": 27,
    "start_time": "2021-06-25T00:57:00.273Z"
   },
   {
    "duration": 9,
    "start_time": "2021-06-25T00:57:00.303Z"
   },
   {
    "duration": 19,
    "start_time": "2021-06-25T00:57:00.315Z"
   },
   {
    "duration": 9,
    "start_time": "2021-06-25T00:57:00.337Z"
   },
   {
    "duration": 13,
    "start_time": "2021-06-25T00:57:00.349Z"
   },
   {
    "duration": 6,
    "start_time": "2021-06-25T00:57:00.401Z"
   },
   {
    "duration": 26,
    "start_time": "2021-06-25T00:57:00.409Z"
   },
   {
    "duration": 20,
    "start_time": "2021-06-25T00:57:00.438Z"
   },
   {
    "duration": 29,
    "start_time": "2021-06-25T00:57:00.462Z"
   },
   {
    "duration": 19,
    "start_time": "2021-06-25T00:57:00.494Z"
   },
   {
    "duration": 32,
    "start_time": "2021-06-25T00:57:00.516Z"
   },
   {
    "duration": 395,
    "start_time": "2021-06-25T00:57:00.551Z"
   },
   {
    "duration": 7,
    "start_time": "2021-06-25T00:57:00.950Z"
   },
   {
    "duration": 13,
    "start_time": "2021-06-25T00:57:00.960Z"
   },
   {
    "duration": 590,
    "start_time": "2021-06-25T00:57:00.976Z"
   },
   {
    "duration": 8,
    "start_time": "2021-06-25T00:57:01.569Z"
   },
   {
    "duration": 71,
    "start_time": "2021-06-25T00:57:01.580Z"
   },
   {
    "duration": 13,
    "start_time": "2021-06-25T00:57:01.654Z"
   },
   {
    "duration": 18,
    "start_time": "2021-06-25T00:57:01.670Z"
   },
   {
    "duration": 16,
    "start_time": "2021-06-25T00:57:01.691Z"
   },
   {
    "duration": 380,
    "start_time": "2021-06-25T00:57:01.710Z"
   },
   {
    "duration": 366,
    "start_time": "2021-06-25T00:57:02.093Z"
   },
   {
    "duration": 7,
    "start_time": "2021-06-25T00:57:02.462Z"
   }
  ],
  "kernelspec": {
   "display_name": "Python 3",
   "language": "python",
   "name": "python3"
  },
  "language_info": {
   "codemirror_mode": {
    "name": "ipython",
    "version": 3
   },
   "file_extension": ".py",
   "mimetype": "text/x-python",
   "name": "python",
   "nbconvert_exporter": "python",
   "pygments_lexer": "ipython3",
   "version": "3.8.5"
  },
  "toc": {
   "base_numbering": 1,
   "nav_menu": {},
   "number_sections": true,
   "sideBar": true,
   "skip_h1_title": true,
   "title_cell": "Table of Contents",
   "title_sidebar": "Contents",
   "toc_cell": false,
   "toc_position": {},
   "toc_section_display": true,
   "toc_window_display": false
  }
 },
 "nbformat": 4,
 "nbformat_minor": 2
}
